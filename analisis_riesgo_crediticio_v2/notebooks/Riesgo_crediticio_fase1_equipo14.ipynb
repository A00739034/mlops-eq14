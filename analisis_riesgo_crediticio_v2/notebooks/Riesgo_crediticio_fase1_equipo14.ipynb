{
  "nbformat": 4,
  "nbformat_minor": 0,
  "metadata": {
    "colab": {
      "provenance": []
    },
    "kernelspec": {
      "name": "python3",
      "display_name": "Python 3"
    },
    "language_info": {
      "name": "python"
    }
  },
  "cells": [
    {
      "cell_type": "markdown",
      "source": [
        "# **Maestría en Inteligencia Artificial Aplicada**\n",
        "\n",
        "## **Curso: Operaciones de aprendizaje automático (Gpo 10)**\n",
        "\n",
        "**Tecnológico de Monterrey**\n",
        "\n",
        "Dr. Gerardo Rodríguez Hernández\n",
        "Maestro Ricardo Valdez Hernández\n",
        "\n",
        "### **Actividad: Fase 1 | Avance de Proyecto"
      ],
      "metadata": {
        "id": "f1ShavRlZWm6"
      }
    },
    {
      "cell_type": "markdown",
      "source": [
        "**Nombre:** Manuel Alejandro Ambriz Baca\n",
        "\n",
        "**Matrícula:** A01686824\n",
        "\n",
        "**Rol:** Data engineer"
      ],
      "metadata": {
        "id": "S3HB8B4nhDpn"
      }
    },
    {
      "cell_type": "markdown",
      "source": [
        "* #### **Nombre:** Lucero Guadalupe Contreras Hernández\n",
        "* #### **Matrícula:** A01794502\n",
        "* #### **Rol:** Data scientist"
      ],
      "metadata": {
        "id": "AmJCPGtDhK8V"
      }
    },
    {
      "cell_type": "markdown",
      "source": [
        "* #### **Nombre:** Manuel Alejandro Ambriz Baca\n",
        "* #### **Matrícula:** A01686824\n",
        "* #### **Rol:** Data Engineer"
      ],
      "metadata": {
        "id": "Yea-DWAmhQ-g"
      }
    },
    {
      "cell_type": "markdown",
      "source": [
        "* #### **Nombre:** Angel Adrian Morales Aldaco\n",
        "* #### **Matrícula:** A01797072\n",
        "* #### **Rol:** ML Engineer"
      ],
      "metadata": {
        "id": "STg_RBGihSWS"
      }
    },
    {
      "cell_type": "markdown",
      "source": [
        "* #### **Nombre:** Alberto Cortés Murillo\n",
        "* #### **Matrícula:** A00739034\n",
        "* #### **Rol:** DevOps\n"
      ],
      "metadata": {
        "id": "WW7Vh_TDioGb"
      }
    },
    {
      "cell_type": "code",
      "source": [
        "from google.colab import drive\n",
        "drive.mount('/content/drive')\n"
      ],
      "metadata": {
        "colab": {
          "base_uri": "https://localhost:8080/"
        },
        "id": "d4c_p0QteguZ",
        "outputId": "0d5ad17d-02e2-4173-fdcd-2bf2a1b3e8eb"
      },
      "execution_count": null,
      "outputs": [
        {
          "output_type": "stream",
          "name": "stdout",
          "text": [
            "Drive already mounted at /content/drive; to attempt to forcibly remount, call drive.mount(\"/content/drive\", force_remount=True).\n"
          ]
        }
      ]
    },
    {
      "cell_type": "code",
      "execution_count": null,
      "metadata": {
        "id": "K4-vV8nUSVsS"
      },
      "outputs": [],
      "source": [
        "import pandas as pd\n",
        "import numpy as np\n",
        "import matplotlib.pyplot as plt\n",
        "import seaborn as sns\n",
        "import json\n",
        "from pathlib import Path"
      ]
    },
    {
      "cell_type": "markdown",
      "source": [
        "## Configuración básica"
      ],
      "metadata": {
        "id": "hyWmi66wbTAq"
      }
    },
    {
      "cell_type": "code",
      "source": [
        "\n",
        "\n",
        "IN_FILE = \"/content/drive/MyDrive/OperacionesML/Fase1/data/raw/german_credit_modified.csv\"\n",
        "OUT_DIR = Path(\"/content/drive/MyDrive/OperacionesML/Fase1/data/interim\")\n",
        "OUT_DIR.mkdir(parents=True, exist_ok=True)\n",
        "\n",
        "# Dominios válidos (categóricas codificadas)\n",
        "VALID = {\n",
        "  \"laufkont\":{1,2,3,4}, \"moral\":{0,1,2,3,4}, \"verw\":set(range(0,11)), \"sparkont\":{1,2,3,4,5},\n",
        "  \"beszeit\":{1,2,3,4,5}, \"rate\":{1,2,3,4}, \"famges\":{1,2,3,4}, \"buerge\":{1,2,3},\n",
        "  \"wohnzeit\":{1,2,3,4}, \"verm\":{1,2,3,4}, \"weitkred\":{1,2,3}, \"wohn\":{1,2,3},\n",
        "  \"bishkred\":{1,2,3,4}, \"beruf\":{1,2,3,4}, \"pers\":{1,2}, \"telef\":{1,2}, \"gastarb\":{1,2},\n",
        "  \"kredit\":{0,1}\n",
        "}\n",
        "\n",
        "# Continuas y rangos válidos\n",
        "CONT = [\"hoehe\",\"laufzeit\",\"alter\"]\n",
        "RANGE = {\"alter\":(18,75), \"laufzeit\":(4,72), \"hoehe\":(250,None)}\n",
        "\n",
        "def brief(df, title=\"DF\"):\n",
        "    print(f\"— {title} — shape={df.shape}, nans={int(df.isna().sum().sum())}, dups={df.duplicated().sum()}\")\n"
      ],
      "metadata": {
        "id": "gJKhHE1TbDHI"
      },
      "execution_count": null,
      "outputs": []
    },
    {
      "cell_type": "markdown",
      "source": [
        "## Carga y chequeo inicial"
      ],
      "metadata": {
        "id": "J5PZg_GYba8U"
      }
    },
    {
      "cell_type": "code",
      "source": [
        "df = pd.read_csv(IN_FILE)\n",
        "\n",
        "# eliminar si existe columna “ruidosa”\n",
        "if \"mixed_type_col\" in df.columns:\n",
        "    df = df.drop(columns=[\"mixed_type_col\"])\n",
        "\n",
        "brief(df, \"Cargado\")\n",
        "\n",
        "# Vistazo rápido\n",
        "display(df.head(3))\n",
        "print(\"\\nTipos:\")\n",
        "print(df.dtypes)\n",
        "print(\"\\n% faltantes (top 10):\")\n",
        "print((df.isna().mean()*100).round(2).sort_values(ascending=False).head(10))\n"
      ],
      "metadata": {
        "colab": {
          "base_uri": "https://localhost:8080/",
          "height": 832
        },
        "id": "MaenGhnLbJAB",
        "outputId": "c16ac67e-6961-46d5-d0d7-3335e3457313"
      },
      "execution_count": null,
      "outputs": [
        {
          "output_type": "stream",
          "name": "stdout",
          "text": [
            "— Cargado — shape=(1020, 21), nans=247, dups=2\n"
          ]
        },
        {
          "output_type": "display_data",
          "data": {
            "text/plain": [
              "  laufkont laufzeit moral verw   hoehe sparkont beszeit rate famges buerge  \\\n",
              "0      1.0     18.0   4.0  2.0  1049.0      1.0     2.0  4.0    2.0    1.0   \n",
              "1      1.0      9.0   4.0  0.0  2799.0      1.0     3.0  2.0    3.0    1.0   \n",
              "2      2.0    12.0    2.0  9.0   841.0      2.0     4.0  2.0    2.0    1.0   \n",
              "\n",
              "   ... verm alter weitkred wohn bishkred beruf pers telef gastarb kredit  \n",
              "0  ...  2.0  21.0      3.0  1.0      1.0   3.0  2.0   1.0     2.0    1.0  \n",
              "1  ...  1.0  36.0      3.0  1.0      2.0   3.0  1.0   1.0     2.0    1.0  \n",
              "2  ...  1.0  23.0      3.0  1.0      1.0   2.0  2.0   1.0     2.0    1.0  \n",
              "\n",
              "[3 rows x 21 columns]"
            ],
            "text/html": [
              "\n",
              "  <div id=\"df-1fb8d465-5f0f-4cd4-b407-fa0c948025a7\" class=\"colab-df-container\">\n",
              "    <div>\n",
              "<style scoped>\n",
              "    .dataframe tbody tr th:only-of-type {\n",
              "        vertical-align: middle;\n",
              "    }\n",
              "\n",
              "    .dataframe tbody tr th {\n",
              "        vertical-align: top;\n",
              "    }\n",
              "\n",
              "    .dataframe thead th {\n",
              "        text-align: right;\n",
              "    }\n",
              "</style>\n",
              "<table border=\"1\" class=\"dataframe\">\n",
              "  <thead>\n",
              "    <tr style=\"text-align: right;\">\n",
              "      <th></th>\n",
              "      <th>laufkont</th>\n",
              "      <th>laufzeit</th>\n",
              "      <th>moral</th>\n",
              "      <th>verw</th>\n",
              "      <th>hoehe</th>\n",
              "      <th>sparkont</th>\n",
              "      <th>beszeit</th>\n",
              "      <th>rate</th>\n",
              "      <th>famges</th>\n",
              "      <th>buerge</th>\n",
              "      <th>...</th>\n",
              "      <th>verm</th>\n",
              "      <th>alter</th>\n",
              "      <th>weitkred</th>\n",
              "      <th>wohn</th>\n",
              "      <th>bishkred</th>\n",
              "      <th>beruf</th>\n",
              "      <th>pers</th>\n",
              "      <th>telef</th>\n",
              "      <th>gastarb</th>\n",
              "      <th>kredit</th>\n",
              "    </tr>\n",
              "  </thead>\n",
              "  <tbody>\n",
              "    <tr>\n",
              "      <th>0</th>\n",
              "      <td>1.0</td>\n",
              "      <td>18.0</td>\n",
              "      <td>4.0</td>\n",
              "      <td>2.0</td>\n",
              "      <td>1049.0</td>\n",
              "      <td>1.0</td>\n",
              "      <td>2.0</td>\n",
              "      <td>4.0</td>\n",
              "      <td>2.0</td>\n",
              "      <td>1.0</td>\n",
              "      <td>...</td>\n",
              "      <td>2.0</td>\n",
              "      <td>21.0</td>\n",
              "      <td>3.0</td>\n",
              "      <td>1.0</td>\n",
              "      <td>1.0</td>\n",
              "      <td>3.0</td>\n",
              "      <td>2.0</td>\n",
              "      <td>1.0</td>\n",
              "      <td>2.0</td>\n",
              "      <td>1.0</td>\n",
              "    </tr>\n",
              "    <tr>\n",
              "      <th>1</th>\n",
              "      <td>1.0</td>\n",
              "      <td>9.0</td>\n",
              "      <td>4.0</td>\n",
              "      <td>0.0</td>\n",
              "      <td>2799.0</td>\n",
              "      <td>1.0</td>\n",
              "      <td>3.0</td>\n",
              "      <td>2.0</td>\n",
              "      <td>3.0</td>\n",
              "      <td>1.0</td>\n",
              "      <td>...</td>\n",
              "      <td>1.0</td>\n",
              "      <td>36.0</td>\n",
              "      <td>3.0</td>\n",
              "      <td>1.0</td>\n",
              "      <td>2.0</td>\n",
              "      <td>3.0</td>\n",
              "      <td>1.0</td>\n",
              "      <td>1.0</td>\n",
              "      <td>2.0</td>\n",
              "      <td>1.0</td>\n",
              "    </tr>\n",
              "    <tr>\n",
              "      <th>2</th>\n",
              "      <td>2.0</td>\n",
              "      <td>12.0</td>\n",
              "      <td>2.0</td>\n",
              "      <td>9.0</td>\n",
              "      <td>841.0</td>\n",
              "      <td>2.0</td>\n",
              "      <td>4.0</td>\n",
              "      <td>2.0</td>\n",
              "      <td>2.0</td>\n",
              "      <td>1.0</td>\n",
              "      <td>...</td>\n",
              "      <td>1.0</td>\n",
              "      <td>23.0</td>\n",
              "      <td>3.0</td>\n",
              "      <td>1.0</td>\n",
              "      <td>1.0</td>\n",
              "      <td>2.0</td>\n",
              "      <td>2.0</td>\n",
              "      <td>1.0</td>\n",
              "      <td>2.0</td>\n",
              "      <td>1.0</td>\n",
              "    </tr>\n",
              "  </tbody>\n",
              "</table>\n",
              "<p>3 rows × 21 columns</p>\n",
              "</div>\n",
              "    <div class=\"colab-df-buttons\">\n",
              "\n",
              "  <div class=\"colab-df-container\">\n",
              "    <button class=\"colab-df-convert\" onclick=\"convertToInteractive('df-1fb8d465-5f0f-4cd4-b407-fa0c948025a7')\"\n",
              "            title=\"Convert this dataframe to an interactive table.\"\n",
              "            style=\"display:none;\">\n",
              "\n",
              "  <svg xmlns=\"http://www.w3.org/2000/svg\" height=\"24px\" viewBox=\"0 -960 960 960\">\n",
              "    <path d=\"M120-120v-720h720v720H120Zm60-500h600v-160H180v160Zm220 220h160v-160H400v160Zm0 220h160v-160H400v160ZM180-400h160v-160H180v160Zm440 0h160v-160H620v160ZM180-180h160v-160H180v160Zm440 0h160v-160H620v160Z\"/>\n",
              "  </svg>\n",
              "    </button>\n",
              "\n",
              "  <style>\n",
              "    .colab-df-container {\n",
              "      display:flex;\n",
              "      gap: 12px;\n",
              "    }\n",
              "\n",
              "    .colab-df-convert {\n",
              "      background-color: #E8F0FE;\n",
              "      border: none;\n",
              "      border-radius: 50%;\n",
              "      cursor: pointer;\n",
              "      display: none;\n",
              "      fill: #1967D2;\n",
              "      height: 32px;\n",
              "      padding: 0 0 0 0;\n",
              "      width: 32px;\n",
              "    }\n",
              "\n",
              "    .colab-df-convert:hover {\n",
              "      background-color: #E2EBFA;\n",
              "      box-shadow: 0px 1px 2px rgba(60, 64, 67, 0.3), 0px 1px 3px 1px rgba(60, 64, 67, 0.15);\n",
              "      fill: #174EA6;\n",
              "    }\n",
              "\n",
              "    .colab-df-buttons div {\n",
              "      margin-bottom: 4px;\n",
              "    }\n",
              "\n",
              "    [theme=dark] .colab-df-convert {\n",
              "      background-color: #3B4455;\n",
              "      fill: #D2E3FC;\n",
              "    }\n",
              "\n",
              "    [theme=dark] .colab-df-convert:hover {\n",
              "      background-color: #434B5C;\n",
              "      box-shadow: 0px 1px 3px 1px rgba(0, 0, 0, 0.15);\n",
              "      filter: drop-shadow(0px 1px 2px rgba(0, 0, 0, 0.3));\n",
              "      fill: #FFFFFF;\n",
              "    }\n",
              "  </style>\n",
              "\n",
              "    <script>\n",
              "      const buttonEl =\n",
              "        document.querySelector('#df-1fb8d465-5f0f-4cd4-b407-fa0c948025a7 button.colab-df-convert');\n",
              "      buttonEl.style.display =\n",
              "        google.colab.kernel.accessAllowed ? 'block' : 'none';\n",
              "\n",
              "      async function convertToInteractive(key) {\n",
              "        const element = document.querySelector('#df-1fb8d465-5f0f-4cd4-b407-fa0c948025a7');\n",
              "        const dataTable =\n",
              "          await google.colab.kernel.invokeFunction('convertToInteractive',\n",
              "                                                    [key], {});\n",
              "        if (!dataTable) return;\n",
              "\n",
              "        const docLinkHtml = 'Like what you see? Visit the ' +\n",
              "          '<a target=\"_blank\" href=https://colab.research.google.com/notebooks/data_table.ipynb>data table notebook</a>'\n",
              "          + ' to learn more about interactive tables.';\n",
              "        element.innerHTML = '';\n",
              "        dataTable['output_type'] = 'display_data';\n",
              "        await google.colab.output.renderOutput(dataTable, element);\n",
              "        const docLink = document.createElement('div');\n",
              "        docLink.innerHTML = docLinkHtml;\n",
              "        element.appendChild(docLink);\n",
              "      }\n",
              "    </script>\n",
              "  </div>\n",
              "\n",
              "\n",
              "    <div id=\"df-6973a23f-9ebf-4c50-892e-6a06d7cf4b88\">\n",
              "      <button class=\"colab-df-quickchart\" onclick=\"quickchart('df-6973a23f-9ebf-4c50-892e-6a06d7cf4b88')\"\n",
              "                title=\"Suggest charts\"\n",
              "                style=\"display:none;\">\n",
              "\n",
              "<svg xmlns=\"http://www.w3.org/2000/svg\" height=\"24px\"viewBox=\"0 0 24 24\"\n",
              "     width=\"24px\">\n",
              "    <g>\n",
              "        <path d=\"M19 3H5c-1.1 0-2 .9-2 2v14c0 1.1.9 2 2 2h14c1.1 0 2-.9 2-2V5c0-1.1-.9-2-2-2zM9 17H7v-7h2v7zm4 0h-2V7h2v10zm4 0h-2v-4h2v4z\"/>\n",
              "    </g>\n",
              "</svg>\n",
              "      </button>\n",
              "\n",
              "<style>\n",
              "  .colab-df-quickchart {\n",
              "      --bg-color: #E8F0FE;\n",
              "      --fill-color: #1967D2;\n",
              "      --hover-bg-color: #E2EBFA;\n",
              "      --hover-fill-color: #174EA6;\n",
              "      --disabled-fill-color: #AAA;\n",
              "      --disabled-bg-color: #DDD;\n",
              "  }\n",
              "\n",
              "  [theme=dark] .colab-df-quickchart {\n",
              "      --bg-color: #3B4455;\n",
              "      --fill-color: #D2E3FC;\n",
              "      --hover-bg-color: #434B5C;\n",
              "      --hover-fill-color: #FFFFFF;\n",
              "      --disabled-bg-color: #3B4455;\n",
              "      --disabled-fill-color: #666;\n",
              "  }\n",
              "\n",
              "  .colab-df-quickchart {\n",
              "    background-color: var(--bg-color);\n",
              "    border: none;\n",
              "    border-radius: 50%;\n",
              "    cursor: pointer;\n",
              "    display: none;\n",
              "    fill: var(--fill-color);\n",
              "    height: 32px;\n",
              "    padding: 0;\n",
              "    width: 32px;\n",
              "  }\n",
              "\n",
              "  .colab-df-quickchart:hover {\n",
              "    background-color: var(--hover-bg-color);\n",
              "    box-shadow: 0 1px 2px rgba(60, 64, 67, 0.3), 0 1px 3px 1px rgba(60, 64, 67, 0.15);\n",
              "    fill: var(--button-hover-fill-color);\n",
              "  }\n",
              "\n",
              "  .colab-df-quickchart-complete:disabled,\n",
              "  .colab-df-quickchart-complete:disabled:hover {\n",
              "    background-color: var(--disabled-bg-color);\n",
              "    fill: var(--disabled-fill-color);\n",
              "    box-shadow: none;\n",
              "  }\n",
              "\n",
              "  .colab-df-spinner {\n",
              "    border: 2px solid var(--fill-color);\n",
              "    border-color: transparent;\n",
              "    border-bottom-color: var(--fill-color);\n",
              "    animation:\n",
              "      spin 1s steps(1) infinite;\n",
              "  }\n",
              "\n",
              "  @keyframes spin {\n",
              "    0% {\n",
              "      border-color: transparent;\n",
              "      border-bottom-color: var(--fill-color);\n",
              "      border-left-color: var(--fill-color);\n",
              "    }\n",
              "    20% {\n",
              "      border-color: transparent;\n",
              "      border-left-color: var(--fill-color);\n",
              "      border-top-color: var(--fill-color);\n",
              "    }\n",
              "    30% {\n",
              "      border-color: transparent;\n",
              "      border-left-color: var(--fill-color);\n",
              "      border-top-color: var(--fill-color);\n",
              "      border-right-color: var(--fill-color);\n",
              "    }\n",
              "    40% {\n",
              "      border-color: transparent;\n",
              "      border-right-color: var(--fill-color);\n",
              "      border-top-color: var(--fill-color);\n",
              "    }\n",
              "    60% {\n",
              "      border-color: transparent;\n",
              "      border-right-color: var(--fill-color);\n",
              "    }\n",
              "    80% {\n",
              "      border-color: transparent;\n",
              "      border-right-color: var(--fill-color);\n",
              "      border-bottom-color: var(--fill-color);\n",
              "    }\n",
              "    90% {\n",
              "      border-color: transparent;\n",
              "      border-bottom-color: var(--fill-color);\n",
              "    }\n",
              "  }\n",
              "</style>\n",
              "\n",
              "      <script>\n",
              "        async function quickchart(key) {\n",
              "          const quickchartButtonEl =\n",
              "            document.querySelector('#' + key + ' button');\n",
              "          quickchartButtonEl.disabled = true;  // To prevent multiple clicks.\n",
              "          quickchartButtonEl.classList.add('colab-df-spinner');\n",
              "          try {\n",
              "            const charts = await google.colab.kernel.invokeFunction(\n",
              "                'suggestCharts', [key], {});\n",
              "          } catch (error) {\n",
              "            console.error('Error during call to suggestCharts:', error);\n",
              "          }\n",
              "          quickchartButtonEl.classList.remove('colab-df-spinner');\n",
              "          quickchartButtonEl.classList.add('colab-df-quickchart-complete');\n",
              "        }\n",
              "        (() => {\n",
              "          let quickchartButtonEl =\n",
              "            document.querySelector('#df-6973a23f-9ebf-4c50-892e-6a06d7cf4b88 button');\n",
              "          quickchartButtonEl.style.display =\n",
              "            google.colab.kernel.accessAllowed ? 'block' : 'none';\n",
              "        })();\n",
              "      </script>\n",
              "    </div>\n",
              "\n",
              "    </div>\n",
              "  </div>\n"
            ],
            "application/vnd.google.colaboratory.intrinsic+json": {
              "type": "dataframe"
            }
          },
          "metadata": {}
        },
        {
          "output_type": "stream",
          "name": "stdout",
          "text": [
            "\n",
            "Tipos:\n",
            "laufkont    object\n",
            "laufzeit    object\n",
            "moral       object\n",
            "verw        object\n",
            "hoehe       object\n",
            "sparkont    object\n",
            "beszeit     object\n",
            "rate        object\n",
            "famges      object\n",
            "buerge      object\n",
            "wohnzeit    object\n",
            "verm        object\n",
            "alter       object\n",
            "weitkred    object\n",
            "wohn        object\n",
            "bishkred    object\n",
            "beruf       object\n",
            "pers        object\n",
            "telef       object\n",
            "gastarb     object\n",
            "kredit      object\n",
            "dtype: object\n",
            "\n",
            "% faltantes (top 10):\n",
            "moral       1.67\n",
            "beszeit     1.67\n",
            "verw        1.57\n",
            "kredit      1.57\n",
            "laufkont    1.47\n",
            "gastarb     1.47\n",
            "wohnzeit    1.47\n",
            "buerge      1.27\n",
            "beruf       1.18\n",
            "bishkred    1.18\n",
            "dtype: float64\n"
          ]
        }
      ]
    },
    {
      "cell_type": "markdown",
      "source": [
        "## Forzar numérico + validación de dominios/códigos"
      ],
      "metadata": {
        "id": "TtQ7mreebu34"
      }
    },
    {
      "cell_type": "code",
      "source": [
        "# Forzar numérico donde haya strings de números\n",
        "for c in df.columns:\n",
        "    if df[c].dtype == \"O\":\n",
        "        df[c] = pd.to_numeric(df[c], errors=\"coerce\")\n",
        "\n",
        "# Contar códigos inválidos y convertirlos a NaN\n",
        "invalid_counts = {}\n",
        "for col, ok in VALID.items():\n",
        "    if col in df.columns:\n",
        "        m = df[col].notna() & ~df[col].isin(ok)\n",
        "        invalid_counts[col] = int(m.sum())\n",
        "        df.loc[m, col] = np.nan\n",
        "\n",
        "print(\"Códigos inválidos (solo no-cero):\", {k:v for k,v in invalid_counts.items() if v})\n",
        "brief(df, \"Tras coerción + dominios\")\n"
      ],
      "metadata": {
        "colab": {
          "base_uri": "https://localhost:8080/"
        },
        "id": "7jitccfGb0h8",
        "outputId": "0fc14c8d-5748-47b7-ece9-783cd1a4d896"
      },
      "execution_count": null,
      "outputs": [
        {
          "output_type": "stream",
          "name": "stdout",
          "text": [
            "Códigos inválidos (solo no-cero): {'laufkont': 13, 'moral': 18, 'verw': 9, 'sparkont': 9, 'beszeit': 7, 'rate': 4, 'famges': 5, 'buerge': 12, 'wohnzeit': 10, 'verm': 8, 'weitkred': 10, 'wohn': 9, 'bishkred': 14, 'beruf': 17, 'pers': 14, 'telef': 5, 'gastarb': 13, 'kredit': 8}\n",
            "— Tras coerción + dominios — shape=(1020, 21), nans=506, dups=7\n"
          ]
        }
      ]
    },
    {
      "cell_type": "markdown",
      "source": [
        "## Reglas de rango + outliers en ‘hoehe’ (IQR con piso)"
      ],
      "metadata": {
        "id": "iY-p62JrcDc3"
      }
    },
    {
      "cell_type": "code",
      "source": [
        "# Reglas de rango (se dejan como NaN lo fuera de rango)\n",
        "for col,(lo,hi) in RANGE.items():\n",
        "    if col in df.columns:\n",
        "        if lo is not None: df.loc[df[col] < lo, col] = np.nan\n",
        "        if hi is not None: df.loc[df[col] > hi, col] = np.nan\n",
        "\n",
        "# Filtrado IQR en 'hoehe' con piso HOEHE>=250\n",
        "removed_iqr = 0\n",
        "if \"hoehe\" in df.columns and df[\"hoehe\"].notna().any():\n",
        "    s = df[\"hoehe\"].dropna()\n",
        "    q1,q3 = s.quantile([.25,.75]); iqr = q3-q1\n",
        "    low, high = max(q1-1.5*iqr, 250), q3+1.5*iqr\n",
        "    m = df[\"hoehe\"].between(low, high)\n",
        "    removed_iqr = int((~m).sum())\n",
        "    df = df[m].copy()\n",
        "\n",
        "print(f\"Outliers eliminados en 'hoehe' por IQR: {removed_iqr}\")\n",
        "brief(df, \"Tras rangos + IQR\")\n"
      ],
      "metadata": {
        "colab": {
          "base_uri": "https://localhost:8080/"
        },
        "id": "i44fDx_mb932",
        "outputId": "39590b62-c81a-4e81-883f-82034b75196e"
      },
      "execution_count": null,
      "outputs": [
        {
          "output_type": "stream",
          "name": "stdout",
          "text": [
            "Outliers eliminados en 'hoehe' por IQR: 88\n",
            "— Tras rangos + IQR — shape=(932, 21), nans=463, dups=6\n"
          ]
        }
      ]
    },
    {
      "cell_type": "markdown",
      "source": [
        "## Target binario consistente + imputaciones simples"
      ],
      "metadata": {
        "id": "-_Y4IAFMcGxC"
      }
    },
    {
      "cell_type": "code",
      "source": [
        "# Mapear target a 'target_bad' (1 = malo, 0 = bueno)\n",
        "if \"kredit\" not in df.columns:\n",
        "    raise ValueError(\"Falta columna 'kredit' (target)\")\n",
        "\n",
        "df[\"target_bad\"] = df[\"kredit\"].map({1:0, 0:1}).astype(\"Int64\")\n",
        "\n",
        "# Imputaciones: medianas para continuas, moda para categóricas\n",
        "df_imp = df.copy()\n",
        "for c in df_imp.columns:\n",
        "    if c == \"target_bad\":\n",
        "        continue\n",
        "    if c in CONT:\n",
        "        df_imp[c] = df_imp[c].fillna(df_imp[c].median())\n",
        "    else:\n",
        "        moda = df_imp[c].mode(dropna=True)\n",
        "        if not moda.empty:\n",
        "            df_imp[c] = df_imp[c].fillna(moda.iloc[0])\n",
        "\n",
        "# Opcional: quitar la columna original 'kredit' (ya tenemos target_bad)\n",
        "if \"kredit\" in df_imp.columns:\n",
        "    df_imp = df_imp.drop(columns=[\"kredit\"])\n",
        "\n",
        "brief(df_imp, \"Tras imputación\")\n",
        "print(\"Distribución target_bad (proporción):\")\n",
        "print(df_imp[\"target_bad\"].value_counts(normalize=True).round(3))\n"
      ],
      "metadata": {
        "colab": {
          "base_uri": "https://localhost:8080/"
        },
        "id": "lBrWB13KcMU8",
        "outputId": "2b328b60-f2ba-47a5-f3ee-74602a543936"
      },
      "execution_count": null,
      "outputs": [
        {
          "output_type": "stream",
          "name": "stdout",
          "text": [
            "— Tras imputación — shape=(932, 21), nans=23, dups=9\n",
            "Distribución target_bad (proporción):\n",
            "target_bad\n",
            "0    0.715\n",
            "1    0.285\n",
            "Name: proportion, dtype: Float64\n"
          ]
        }
      ]
    },
    {
      "cell_type": "markdown",
      "source": [
        "## Duplicados (exactos y conflictivos)"
      ],
      "metadata": {
        "id": "2jZTcB5acW1F"
      }
    },
    {
      "cell_type": "code",
      "source": [
        "before = len(df_imp)\n",
        "df_imp = df_imp.drop_duplicates().reset_index(drop=True)\n",
        "removed_exact = before - len(df_imp)\n",
        "\n",
        "# Duplicados conflictivos: mismas features con distinto target\n",
        "feats = [c for c in df_imp.columns if c != \"target_bad\"]\n",
        "g = df_imp.groupby(feats, dropna=False)[\"target_bad\"].nunique()\n",
        "conflict_keys = set(g[g > 1].index)\n",
        "\n",
        "removed_conflict = 0\n",
        "if conflict_keys:\n",
        "    df_imp[\"__key__\"] = list(map(tuple, df_imp[feats].values))\n",
        "    keep_mask = ~df_imp[\"__key__\"].isin(conflict_keys)\n",
        "    removed_conflict = int((~keep_mask).sum())\n",
        "    df_imp = df_imp.loc[keep_mask].drop(columns=\"__key__\").reset_index(drop=True)\n",
        "\n",
        "print(f\"Duplicados exactos eliminados: {removed_exact}\")\n",
        "print(f\"Duplicados conflictivos eliminados: {removed_conflict}\")\n",
        "brief(df_imp, \"Final sin duplicados\")\n"
      ],
      "metadata": {
        "colab": {
          "base_uri": "https://localhost:8080/"
        },
        "id": "l7QNN0fvcVou",
        "outputId": "838d8657-cc10-4eca-98e6-785c0ae925da"
      },
      "execution_count": null,
      "outputs": [
        {
          "output_type": "stream",
          "name": "stdout",
          "text": [
            "Duplicados exactos eliminados: 9\n",
            "Duplicados conflictivos eliminados: 0\n",
            "— Final sin duplicados — shape=(923, 21), nans=23, dups=0\n"
          ]
        }
      ]
    },
    {
      "cell_type": "markdown",
      "source": [
        "## Guardar + QC rápido"
      ],
      "metadata": {
        "id": "Z-CiZdarciHa"
      }
    },
    {
      "cell_type": "code",
      "source": [
        "\n",
        "\n",
        "out_csv = OUT_DIR / \"german_credit_clean.csv\"\n",
        "out_qc  = OUT_DIR / \"qc_report.json\"\n",
        "\n",
        "df_imp.to_csv(out_csv, index=False)\n",
        "\n",
        "# ---- helpers para JSON seguro ----\n",
        "def json_key(k):\n",
        "    # normaliza claves a tipos nativos\n",
        "    if isinstance(k, (np.integer,)):\n",
        "        return int(k)\n",
        "    if isinstance(k, (np.floating,)):\n",
        "        return float(k)\n",
        "    if pd.isna(k):\n",
        "        return \"NaN\"\n",
        "    return k\n",
        "\n",
        "def json_val(v):\n",
        "    # valores seguros (por si vienen como numpy.*)\n",
        "    if isinstance(v, (np.integer,)):\n",
        "        return int(v)\n",
        "    if isinstance(v, (np.floating,)):\n",
        "        return float(v)\n",
        "    return v\n",
        "\n",
        "# construir QC con claves/valores seguros\n",
        "missing_pct = {str(k): json_val(v) for k, v in (df_imp.isna().mean()*100).round(2).to_dict().items()}\n",
        "\n",
        "tb = df_imp[\"target_bad\"].value_counts(normalize=True).round(3).to_dict()\n",
        "target_balance = {json_key(k): json_val(v) for k, v in tb.items()}\n",
        "\n",
        "qc = {\n",
        "    \"shape\": [int(df_imp.shape[0]), int(df_imp.shape[1])],\n",
        "    \"missing_pct\": missing_pct,\n",
        "    \"target_balance\": target_balance,\n",
        "    \"dups_remaining\": int(df_imp.duplicated().sum())\n",
        "}\n",
        "\n",
        "with open(out_qc, \"w\", encoding=\"utf-8\") as f:\n",
        "    json.dump(qc, f, indent=2, ensure_ascii=False)\n",
        "\n",
        "print(f\"[OK] Guardado: {out_csv}\")\n",
        "print(json.dumps(qc, indent=2, ensure_ascii=False))\n"
      ],
      "metadata": {
        "colab": {
          "base_uri": "https://localhost:8080/"
        },
        "id": "GHLYjMJUchWu",
        "outputId": "5104f726-1729-4248-d73c-05b7b1b43f1b"
      },
      "execution_count": null,
      "outputs": [
        {
          "output_type": "stream",
          "name": "stdout",
          "text": [
            "[OK] Guardado: /content/drive/MyDrive/OperacionesML/Fase1/data/interim/german_credit_clean.csv\n",
            "{\n",
            "  \"shape\": [\n",
            "    923,\n",
            "    21\n",
            "  ],\n",
            "  \"missing_pct\": {\n",
            "    \"laufkont\": 0.0,\n",
            "    \"laufzeit\": 0.0,\n",
            "    \"moral\": 0.0,\n",
            "    \"verw\": 0.0,\n",
            "    \"hoehe\": 0.0,\n",
            "    \"sparkont\": 0.0,\n",
            "    \"beszeit\": 0.0,\n",
            "    \"rate\": 0.0,\n",
            "    \"famges\": 0.0,\n",
            "    \"buerge\": 0.0,\n",
            "    \"wohnzeit\": 0.0,\n",
            "    \"verm\": 0.0,\n",
            "    \"alter\": 0.0,\n",
            "    \"weitkred\": 0.0,\n",
            "    \"wohn\": 0.0,\n",
            "    \"bishkred\": 0.0,\n",
            "    \"beruf\": 0.0,\n",
            "    \"pers\": 0.0,\n",
            "    \"telef\": 0.0,\n",
            "    \"gastarb\": 0.0,\n",
            "    \"target_bad\": 2.49\n",
            "  },\n",
            "  \"target_balance\": {\n",
            "    \"0\": 0.717,\n",
            "    \"1\": 0.283\n",
            "  },\n",
            "  \"dups_remaining\": 0\n",
            "}\n"
          ]
        }
      ]
    },
    {
      "cell_type": "markdown",
      "source": [
        "## Celda de verificación previa al EDA"
      ],
      "metadata": {
        "id": "LDUTbV5czB3q"
      }
    },
    {
      "cell_type": "code",
      "source": [
        "path = \"/content/drive/MyDrive/OperacionesML/Fase1/data/interim/german_credit_clean.csv\"\n",
        "\n",
        "df = pd.read_csv(path)\n",
        "print(\"Shape:\", df.shape)\n",
        "print(\"Columnas:\", df.columns.tolist())\n",
        "print(\"\\nValores nulos por columna (top 10):\")\n",
        "print(df.isna().sum().sort_values(ascending=False).head(10))\n",
        "print(\"\\nDistribución target_bad:\")\n",
        "print(df[\"target_bad\"].value_counts(normalize=True).round(3))\n"
      ],
      "metadata": {
        "colab": {
          "base_uri": "https://localhost:8080/"
        },
        "id": "up3vOgs1tF-o",
        "outputId": "c58ba2f4-3f5f-46cb-ebfb-21e35df7282e"
      },
      "execution_count": null,
      "outputs": [
        {
          "output_type": "stream",
          "name": "stdout",
          "text": [
            "Shape: (923, 21)\n",
            "Columnas: ['laufkont', 'laufzeit', 'moral', 'verw', 'hoehe', 'sparkont', 'beszeit', 'rate', 'famges', 'buerge', 'wohnzeit', 'verm', 'alter', 'weitkred', 'wohn', 'bishkred', 'beruf', 'pers', 'telef', 'gastarb', 'target_bad']\n",
            "\n",
            "Valores nulos por columna (top 10):\n",
            "target_bad    23\n",
            "laufzeit       0\n",
            "moral          0\n",
            "verw           0\n",
            "laufkont       0\n",
            "hoehe          0\n",
            "sparkont       0\n",
            "rate           0\n",
            "beszeit        0\n",
            "buerge         0\n",
            "dtype: int64\n",
            "\n",
            "Distribución target_bad:\n",
            "target_bad\n",
            "0.0    0.717\n",
            "1.0    0.283\n",
            "Name: proportion, dtype: float64\n"
          ]
        }
      ]
    },
    {
      "cell_type": "markdown",
      "source": [
        "## Paths, librerías y semilla"
      ],
      "metadata": {
        "id": "aCLgV11nL7OR"
      }
    },
    {
      "cell_type": "code",
      "source": [
        "import os, joblib, textwrap\n",
        "import matplotlib.pyplot as plt\n",
        "from pathlib import Path\n",
        "from datetime import datetime\n",
        "from sklearn.model_selection import train_test_split, StratifiedKFold, GridSearchCV\n",
        "from sklearn.preprocessing import StandardScaler\n",
        "from sklearn.decomposition import PCA\n",
        "from sklearn.pipeline import Pipeline\n",
        "from sklearn.linear_model import LogisticRegression\n",
        "from sklearn.ensemble import RandomForestClassifier\n",
        "from sklearn.metrics import (classification_report, confusion_matrix, roc_auc_score,\n",
        "                             average_precision_score, precision_recall_curve, roc_curve)\n",
        "\n",
        "\n",
        "BASE = Path(\"/content/drive/MyDrive/OperacionesML/Fase1\")\n",
        "\n",
        "DVC_DIR  = BASE / \"data\"                 # datasets versionados\n",
        "DATA_DIR = DVC_DIR / \"interim\"            # german_credit_clean.csv esta aqui\n",
        "ARTI_DIR = BASE / \"artifacts\"            # para guardar modelos/figuras/métricas\n",
        "for p in [DATA_DIR, ARTI_DIR, DVC_DIR]: p.mkdir(parents=True, exist_ok=True)\n",
        "\n",
        "IN_FILE = BASE / \"data/interim/german_credit_clean.csv\"\n",
        "RUN_ID = datetime.now().strftime(\"%Y%m%d_%H%M%S\")\n",
        "RUN_DIR = ARTI_DIR / f\"run_{RUN_ID}\"\n",
        "RUN_DIR.mkdir(parents=True, exist_ok=True)\n",
        "\n",
        "RANDOM_STATE = 42\n",
        "np.random.seed(RANDOM_STATE)\n",
        "\n",
        "print(\"Archivo de entrada:\", IN_FILE)\n",
        "print(\"Run dir:\", RUN_DIR)\n",
        "\n"
      ],
      "metadata": {
        "colab": {
          "base_uri": "https://localhost:8080/"
        },
        "id": "R7gMuUAZCKA7",
        "outputId": "8e5693bb-a6f6-4702-cbb1-0a0f6b944b30"
      },
      "execution_count": null,
      "outputs": [
        {
          "output_type": "stream",
          "name": "stdout",
          "text": [
            "Archivo de entrada: /content/drive/MyDrive/OperacionesML/Fase1/data/interim/german_credit_clean.csv\n",
            "Run dir: /content/drive/MyDrive/OperacionesML/Fase1/artifacts/run_20251012_202156\n"
          ]
        }
      ]
    },
    {
      "cell_type": "markdown",
      "source": [
        "## Cargar datos y chequeos rápidos"
      ],
      "metadata": {
        "id": "VI2l099qNYyQ"
      }
    },
    {
      "cell_type": "code",
      "source": [
        "\n",
        "\n",
        "df = pd.read_csv(IN_FILE)\n",
        "print(\"Shape:\", df.shape)\n",
        "display(df.head(5))\n",
        "\n",
        "print(\"\\nTipos:\")\n",
        "display(df.dtypes)\n",
        "\n",
        "print(\"\\nNulos por columna (top 10):\")\n",
        "display(df.isna().sum().sort_values(ascending=False).head(10))\n",
        "\n",
        "print(\"Duplicados:\", df.duplicated().sum())\n",
        "print(\"\\nDistribución target_bad:\")\n",
        "display(df[\"target_bad\"].value_counts(normalize=True).round(3))\n"
      ],
      "metadata": {
        "colab": {
          "base_uri": "https://localhost:8080/",
          "height": 1000
        },
        "id": "8kH6sVk_SkCN",
        "outputId": "cd2b61e6-517e-48eb-b77b-123ed803ee54"
      },
      "execution_count": null,
      "outputs": [
        {
          "output_type": "stream",
          "name": "stdout",
          "text": [
            "Shape: (923, 21)\n"
          ]
        },
        {
          "output_type": "display_data",
          "data": {
            "text/plain": [
              "   laufkont  laufzeit  moral  verw   hoehe  sparkont  beszeit  rate  famges  \\\n",
              "0       1.0      18.0    4.0   2.0  1049.0       1.0      2.0   4.0     2.0   \n",
              "1       1.0       9.0    4.0   0.0  2799.0       1.0      3.0   2.0     3.0   \n",
              "2       2.0      12.0    2.0   9.0   841.0       2.0      4.0   2.0     2.0   \n",
              "3       1.0      12.0    4.0   0.0  2122.0       1.0      3.0   3.0     3.0   \n",
              "4       1.0      12.0    4.0   0.0  2171.0       1.0      3.0   4.0     3.0   \n",
              "\n",
              "   buerge  ...  verm  alter  weitkred  wohn  bishkred  beruf  pers  telef  \\\n",
              "0     1.0  ...   2.0   21.0       3.0   1.0       1.0    3.0   2.0    1.0   \n",
              "1     1.0  ...   1.0   36.0       3.0   1.0       2.0    3.0   1.0    1.0   \n",
              "2     1.0  ...   1.0   23.0       3.0   1.0       1.0    2.0   2.0    1.0   \n",
              "3     1.0  ...   1.0   39.0       3.0   1.0       2.0    2.0   1.0    1.0   \n",
              "4     1.0  ...   2.0   38.0       1.0   2.0       2.0    2.0   2.0    1.0   \n",
              "\n",
              "   gastarb  target_bad  \n",
              "0      2.0         0.0  \n",
              "1      2.0         0.0  \n",
              "2      2.0         0.0  \n",
              "3      1.0         0.0  \n",
              "4      1.0         0.0  \n",
              "\n",
              "[5 rows x 21 columns]"
            ],
            "text/html": [
              "\n",
              "  <div id=\"df-ead6ec16-2f02-4072-bbc4-7b27ccf1e029\" class=\"colab-df-container\">\n",
              "    <div>\n",
              "<style scoped>\n",
              "    .dataframe tbody tr th:only-of-type {\n",
              "        vertical-align: middle;\n",
              "    }\n",
              "\n",
              "    .dataframe tbody tr th {\n",
              "        vertical-align: top;\n",
              "    }\n",
              "\n",
              "    .dataframe thead th {\n",
              "        text-align: right;\n",
              "    }\n",
              "</style>\n",
              "<table border=\"1\" class=\"dataframe\">\n",
              "  <thead>\n",
              "    <tr style=\"text-align: right;\">\n",
              "      <th></th>\n",
              "      <th>laufkont</th>\n",
              "      <th>laufzeit</th>\n",
              "      <th>moral</th>\n",
              "      <th>verw</th>\n",
              "      <th>hoehe</th>\n",
              "      <th>sparkont</th>\n",
              "      <th>beszeit</th>\n",
              "      <th>rate</th>\n",
              "      <th>famges</th>\n",
              "      <th>buerge</th>\n",
              "      <th>...</th>\n",
              "      <th>verm</th>\n",
              "      <th>alter</th>\n",
              "      <th>weitkred</th>\n",
              "      <th>wohn</th>\n",
              "      <th>bishkred</th>\n",
              "      <th>beruf</th>\n",
              "      <th>pers</th>\n",
              "      <th>telef</th>\n",
              "      <th>gastarb</th>\n",
              "      <th>target_bad</th>\n",
              "    </tr>\n",
              "  </thead>\n",
              "  <tbody>\n",
              "    <tr>\n",
              "      <th>0</th>\n",
              "      <td>1.0</td>\n",
              "      <td>18.0</td>\n",
              "      <td>4.0</td>\n",
              "      <td>2.0</td>\n",
              "      <td>1049.0</td>\n",
              "      <td>1.0</td>\n",
              "      <td>2.0</td>\n",
              "      <td>4.0</td>\n",
              "      <td>2.0</td>\n",
              "      <td>1.0</td>\n",
              "      <td>...</td>\n",
              "      <td>2.0</td>\n",
              "      <td>21.0</td>\n",
              "      <td>3.0</td>\n",
              "      <td>1.0</td>\n",
              "      <td>1.0</td>\n",
              "      <td>3.0</td>\n",
              "      <td>2.0</td>\n",
              "      <td>1.0</td>\n",
              "      <td>2.0</td>\n",
              "      <td>0.0</td>\n",
              "    </tr>\n",
              "    <tr>\n",
              "      <th>1</th>\n",
              "      <td>1.0</td>\n",
              "      <td>9.0</td>\n",
              "      <td>4.0</td>\n",
              "      <td>0.0</td>\n",
              "      <td>2799.0</td>\n",
              "      <td>1.0</td>\n",
              "      <td>3.0</td>\n",
              "      <td>2.0</td>\n",
              "      <td>3.0</td>\n",
              "      <td>1.0</td>\n",
              "      <td>...</td>\n",
              "      <td>1.0</td>\n",
              "      <td>36.0</td>\n",
              "      <td>3.0</td>\n",
              "      <td>1.0</td>\n",
              "      <td>2.0</td>\n",
              "      <td>3.0</td>\n",
              "      <td>1.0</td>\n",
              "      <td>1.0</td>\n",
              "      <td>2.0</td>\n",
              "      <td>0.0</td>\n",
              "    </tr>\n",
              "    <tr>\n",
              "      <th>2</th>\n",
              "      <td>2.0</td>\n",
              "      <td>12.0</td>\n",
              "      <td>2.0</td>\n",
              "      <td>9.0</td>\n",
              "      <td>841.0</td>\n",
              "      <td>2.0</td>\n",
              "      <td>4.0</td>\n",
              "      <td>2.0</td>\n",
              "      <td>2.0</td>\n",
              "      <td>1.0</td>\n",
              "      <td>...</td>\n",
              "      <td>1.0</td>\n",
              "      <td>23.0</td>\n",
              "      <td>3.0</td>\n",
              "      <td>1.0</td>\n",
              "      <td>1.0</td>\n",
              "      <td>2.0</td>\n",
              "      <td>2.0</td>\n",
              "      <td>1.0</td>\n",
              "      <td>2.0</td>\n",
              "      <td>0.0</td>\n",
              "    </tr>\n",
              "    <tr>\n",
              "      <th>3</th>\n",
              "      <td>1.0</td>\n",
              "      <td>12.0</td>\n",
              "      <td>4.0</td>\n",
              "      <td>0.0</td>\n",
              "      <td>2122.0</td>\n",
              "      <td>1.0</td>\n",
              "      <td>3.0</td>\n",
              "      <td>3.0</td>\n",
              "      <td>3.0</td>\n",
              "      <td>1.0</td>\n",
              "      <td>...</td>\n",
              "      <td>1.0</td>\n",
              "      <td>39.0</td>\n",
              "      <td>3.0</td>\n",
              "      <td>1.0</td>\n",
              "      <td>2.0</td>\n",
              "      <td>2.0</td>\n",
              "      <td>1.0</td>\n",
              "      <td>1.0</td>\n",
              "      <td>1.0</td>\n",
              "      <td>0.0</td>\n",
              "    </tr>\n",
              "    <tr>\n",
              "      <th>4</th>\n",
              "      <td>1.0</td>\n",
              "      <td>12.0</td>\n",
              "      <td>4.0</td>\n",
              "      <td>0.0</td>\n",
              "      <td>2171.0</td>\n",
              "      <td>1.0</td>\n",
              "      <td>3.0</td>\n",
              "      <td>4.0</td>\n",
              "      <td>3.0</td>\n",
              "      <td>1.0</td>\n",
              "      <td>...</td>\n",
              "      <td>2.0</td>\n",
              "      <td>38.0</td>\n",
              "      <td>1.0</td>\n",
              "      <td>2.0</td>\n",
              "      <td>2.0</td>\n",
              "      <td>2.0</td>\n",
              "      <td>2.0</td>\n",
              "      <td>1.0</td>\n",
              "      <td>1.0</td>\n",
              "      <td>0.0</td>\n",
              "    </tr>\n",
              "  </tbody>\n",
              "</table>\n",
              "<p>5 rows × 21 columns</p>\n",
              "</div>\n",
              "    <div class=\"colab-df-buttons\">\n",
              "\n",
              "  <div class=\"colab-df-container\">\n",
              "    <button class=\"colab-df-convert\" onclick=\"convertToInteractive('df-ead6ec16-2f02-4072-bbc4-7b27ccf1e029')\"\n",
              "            title=\"Convert this dataframe to an interactive table.\"\n",
              "            style=\"display:none;\">\n",
              "\n",
              "  <svg xmlns=\"http://www.w3.org/2000/svg\" height=\"24px\" viewBox=\"0 -960 960 960\">\n",
              "    <path d=\"M120-120v-720h720v720H120Zm60-500h600v-160H180v160Zm220 220h160v-160H400v160Zm0 220h160v-160H400v160ZM180-400h160v-160H180v160Zm440 0h160v-160H620v160ZM180-180h160v-160H180v160Zm440 0h160v-160H620v160Z\"/>\n",
              "  </svg>\n",
              "    </button>\n",
              "\n",
              "  <style>\n",
              "    .colab-df-container {\n",
              "      display:flex;\n",
              "      gap: 12px;\n",
              "    }\n",
              "\n",
              "    .colab-df-convert {\n",
              "      background-color: #E8F0FE;\n",
              "      border: none;\n",
              "      border-radius: 50%;\n",
              "      cursor: pointer;\n",
              "      display: none;\n",
              "      fill: #1967D2;\n",
              "      height: 32px;\n",
              "      padding: 0 0 0 0;\n",
              "      width: 32px;\n",
              "    }\n",
              "\n",
              "    .colab-df-convert:hover {\n",
              "      background-color: #E2EBFA;\n",
              "      box-shadow: 0px 1px 2px rgba(60, 64, 67, 0.3), 0px 1px 3px 1px rgba(60, 64, 67, 0.15);\n",
              "      fill: #174EA6;\n",
              "    }\n",
              "\n",
              "    .colab-df-buttons div {\n",
              "      margin-bottom: 4px;\n",
              "    }\n",
              "\n",
              "    [theme=dark] .colab-df-convert {\n",
              "      background-color: #3B4455;\n",
              "      fill: #D2E3FC;\n",
              "    }\n",
              "\n",
              "    [theme=dark] .colab-df-convert:hover {\n",
              "      background-color: #434B5C;\n",
              "      box-shadow: 0px 1px 3px 1px rgba(0, 0, 0, 0.15);\n",
              "      filter: drop-shadow(0px 1px 2px rgba(0, 0, 0, 0.3));\n",
              "      fill: #FFFFFF;\n",
              "    }\n",
              "  </style>\n",
              "\n",
              "    <script>\n",
              "      const buttonEl =\n",
              "        document.querySelector('#df-ead6ec16-2f02-4072-bbc4-7b27ccf1e029 button.colab-df-convert');\n",
              "      buttonEl.style.display =\n",
              "        google.colab.kernel.accessAllowed ? 'block' : 'none';\n",
              "\n",
              "      async function convertToInteractive(key) {\n",
              "        const element = document.querySelector('#df-ead6ec16-2f02-4072-bbc4-7b27ccf1e029');\n",
              "        const dataTable =\n",
              "          await google.colab.kernel.invokeFunction('convertToInteractive',\n",
              "                                                    [key], {});\n",
              "        if (!dataTable) return;\n",
              "\n",
              "        const docLinkHtml = 'Like what you see? Visit the ' +\n",
              "          '<a target=\"_blank\" href=https://colab.research.google.com/notebooks/data_table.ipynb>data table notebook</a>'\n",
              "          + ' to learn more about interactive tables.';\n",
              "        element.innerHTML = '';\n",
              "        dataTable['output_type'] = 'display_data';\n",
              "        await google.colab.output.renderOutput(dataTable, element);\n",
              "        const docLink = document.createElement('div');\n",
              "        docLink.innerHTML = docLinkHtml;\n",
              "        element.appendChild(docLink);\n",
              "      }\n",
              "    </script>\n",
              "  </div>\n",
              "\n",
              "\n",
              "    <div id=\"df-de149d2a-7407-496a-b981-c398f5bdce04\">\n",
              "      <button class=\"colab-df-quickchart\" onclick=\"quickchart('df-de149d2a-7407-496a-b981-c398f5bdce04')\"\n",
              "                title=\"Suggest charts\"\n",
              "                style=\"display:none;\">\n",
              "\n",
              "<svg xmlns=\"http://www.w3.org/2000/svg\" height=\"24px\"viewBox=\"0 0 24 24\"\n",
              "     width=\"24px\">\n",
              "    <g>\n",
              "        <path d=\"M19 3H5c-1.1 0-2 .9-2 2v14c0 1.1.9 2 2 2h14c1.1 0 2-.9 2-2V5c0-1.1-.9-2-2-2zM9 17H7v-7h2v7zm4 0h-2V7h2v10zm4 0h-2v-4h2v4z\"/>\n",
              "    </g>\n",
              "</svg>\n",
              "      </button>\n",
              "\n",
              "<style>\n",
              "  .colab-df-quickchart {\n",
              "      --bg-color: #E8F0FE;\n",
              "      --fill-color: #1967D2;\n",
              "      --hover-bg-color: #E2EBFA;\n",
              "      --hover-fill-color: #174EA6;\n",
              "      --disabled-fill-color: #AAA;\n",
              "      --disabled-bg-color: #DDD;\n",
              "  }\n",
              "\n",
              "  [theme=dark] .colab-df-quickchart {\n",
              "      --bg-color: #3B4455;\n",
              "      --fill-color: #D2E3FC;\n",
              "      --hover-bg-color: #434B5C;\n",
              "      --hover-fill-color: #FFFFFF;\n",
              "      --disabled-bg-color: #3B4455;\n",
              "      --disabled-fill-color: #666;\n",
              "  }\n",
              "\n",
              "  .colab-df-quickchart {\n",
              "    background-color: var(--bg-color);\n",
              "    border: none;\n",
              "    border-radius: 50%;\n",
              "    cursor: pointer;\n",
              "    display: none;\n",
              "    fill: var(--fill-color);\n",
              "    height: 32px;\n",
              "    padding: 0;\n",
              "    width: 32px;\n",
              "  }\n",
              "\n",
              "  .colab-df-quickchart:hover {\n",
              "    background-color: var(--hover-bg-color);\n",
              "    box-shadow: 0 1px 2px rgba(60, 64, 67, 0.3), 0 1px 3px 1px rgba(60, 64, 67, 0.15);\n",
              "    fill: var(--button-hover-fill-color);\n",
              "  }\n",
              "\n",
              "  .colab-df-quickchart-complete:disabled,\n",
              "  .colab-df-quickchart-complete:disabled:hover {\n",
              "    background-color: var(--disabled-bg-color);\n",
              "    fill: var(--disabled-fill-color);\n",
              "    box-shadow: none;\n",
              "  }\n",
              "\n",
              "  .colab-df-spinner {\n",
              "    border: 2px solid var(--fill-color);\n",
              "    border-color: transparent;\n",
              "    border-bottom-color: var(--fill-color);\n",
              "    animation:\n",
              "      spin 1s steps(1) infinite;\n",
              "  }\n",
              "\n",
              "  @keyframes spin {\n",
              "    0% {\n",
              "      border-color: transparent;\n",
              "      border-bottom-color: var(--fill-color);\n",
              "      border-left-color: var(--fill-color);\n",
              "    }\n",
              "    20% {\n",
              "      border-color: transparent;\n",
              "      border-left-color: var(--fill-color);\n",
              "      border-top-color: var(--fill-color);\n",
              "    }\n",
              "    30% {\n",
              "      border-color: transparent;\n",
              "      border-left-color: var(--fill-color);\n",
              "      border-top-color: var(--fill-color);\n",
              "      border-right-color: var(--fill-color);\n",
              "    }\n",
              "    40% {\n",
              "      border-color: transparent;\n",
              "      border-right-color: var(--fill-color);\n",
              "      border-top-color: var(--fill-color);\n",
              "    }\n",
              "    60% {\n",
              "      border-color: transparent;\n",
              "      border-right-color: var(--fill-color);\n",
              "    }\n",
              "    80% {\n",
              "      border-color: transparent;\n",
              "      border-right-color: var(--fill-color);\n",
              "      border-bottom-color: var(--fill-color);\n",
              "    }\n",
              "    90% {\n",
              "      border-color: transparent;\n",
              "      border-bottom-color: var(--fill-color);\n",
              "    }\n",
              "  }\n",
              "</style>\n",
              "\n",
              "      <script>\n",
              "        async function quickchart(key) {\n",
              "          const quickchartButtonEl =\n",
              "            document.querySelector('#' + key + ' button');\n",
              "          quickchartButtonEl.disabled = true;  // To prevent multiple clicks.\n",
              "          quickchartButtonEl.classList.add('colab-df-spinner');\n",
              "          try {\n",
              "            const charts = await google.colab.kernel.invokeFunction(\n",
              "                'suggestCharts', [key], {});\n",
              "          } catch (error) {\n",
              "            console.error('Error during call to suggestCharts:', error);\n",
              "          }\n",
              "          quickchartButtonEl.classList.remove('colab-df-spinner');\n",
              "          quickchartButtonEl.classList.add('colab-df-quickchart-complete');\n",
              "        }\n",
              "        (() => {\n",
              "          let quickchartButtonEl =\n",
              "            document.querySelector('#df-de149d2a-7407-496a-b981-c398f5bdce04 button');\n",
              "          quickchartButtonEl.style.display =\n",
              "            google.colab.kernel.accessAllowed ? 'block' : 'none';\n",
              "        })();\n",
              "      </script>\n",
              "    </div>\n",
              "\n",
              "    </div>\n",
              "  </div>\n"
            ],
            "application/vnd.google.colaboratory.intrinsic+json": {
              "type": "dataframe"
            }
          },
          "metadata": {}
        },
        {
          "output_type": "stream",
          "name": "stdout",
          "text": [
            "\n",
            "Tipos:\n"
          ]
        },
        {
          "output_type": "display_data",
          "data": {
            "text/plain": [
              "laufkont      float64\n",
              "laufzeit      float64\n",
              "moral         float64\n",
              "verw          float64\n",
              "hoehe         float64\n",
              "sparkont      float64\n",
              "beszeit       float64\n",
              "rate          float64\n",
              "famges        float64\n",
              "buerge        float64\n",
              "wohnzeit      float64\n",
              "verm          float64\n",
              "alter         float64\n",
              "weitkred      float64\n",
              "wohn          float64\n",
              "bishkred      float64\n",
              "beruf         float64\n",
              "pers          float64\n",
              "telef         float64\n",
              "gastarb       float64\n",
              "target_bad    float64\n",
              "dtype: object"
            ],
            "text/html": [
              "<div>\n",
              "<style scoped>\n",
              "    .dataframe tbody tr th:only-of-type {\n",
              "        vertical-align: middle;\n",
              "    }\n",
              "\n",
              "    .dataframe tbody tr th {\n",
              "        vertical-align: top;\n",
              "    }\n",
              "\n",
              "    .dataframe thead th {\n",
              "        text-align: right;\n",
              "    }\n",
              "</style>\n",
              "<table border=\"1\" class=\"dataframe\">\n",
              "  <thead>\n",
              "    <tr style=\"text-align: right;\">\n",
              "      <th></th>\n",
              "      <th>0</th>\n",
              "    </tr>\n",
              "  </thead>\n",
              "  <tbody>\n",
              "    <tr>\n",
              "      <th>laufkont</th>\n",
              "      <td>float64</td>\n",
              "    </tr>\n",
              "    <tr>\n",
              "      <th>laufzeit</th>\n",
              "      <td>float64</td>\n",
              "    </tr>\n",
              "    <tr>\n",
              "      <th>moral</th>\n",
              "      <td>float64</td>\n",
              "    </tr>\n",
              "    <tr>\n",
              "      <th>verw</th>\n",
              "      <td>float64</td>\n",
              "    </tr>\n",
              "    <tr>\n",
              "      <th>hoehe</th>\n",
              "      <td>float64</td>\n",
              "    </tr>\n",
              "    <tr>\n",
              "      <th>sparkont</th>\n",
              "      <td>float64</td>\n",
              "    </tr>\n",
              "    <tr>\n",
              "      <th>beszeit</th>\n",
              "      <td>float64</td>\n",
              "    </tr>\n",
              "    <tr>\n",
              "      <th>rate</th>\n",
              "      <td>float64</td>\n",
              "    </tr>\n",
              "    <tr>\n",
              "      <th>famges</th>\n",
              "      <td>float64</td>\n",
              "    </tr>\n",
              "    <tr>\n",
              "      <th>buerge</th>\n",
              "      <td>float64</td>\n",
              "    </tr>\n",
              "    <tr>\n",
              "      <th>wohnzeit</th>\n",
              "      <td>float64</td>\n",
              "    </tr>\n",
              "    <tr>\n",
              "      <th>verm</th>\n",
              "      <td>float64</td>\n",
              "    </tr>\n",
              "    <tr>\n",
              "      <th>alter</th>\n",
              "      <td>float64</td>\n",
              "    </tr>\n",
              "    <tr>\n",
              "      <th>weitkred</th>\n",
              "      <td>float64</td>\n",
              "    </tr>\n",
              "    <tr>\n",
              "      <th>wohn</th>\n",
              "      <td>float64</td>\n",
              "    </tr>\n",
              "    <tr>\n",
              "      <th>bishkred</th>\n",
              "      <td>float64</td>\n",
              "    </tr>\n",
              "    <tr>\n",
              "      <th>beruf</th>\n",
              "      <td>float64</td>\n",
              "    </tr>\n",
              "    <tr>\n",
              "      <th>pers</th>\n",
              "      <td>float64</td>\n",
              "    </tr>\n",
              "    <tr>\n",
              "      <th>telef</th>\n",
              "      <td>float64</td>\n",
              "    </tr>\n",
              "    <tr>\n",
              "      <th>gastarb</th>\n",
              "      <td>float64</td>\n",
              "    </tr>\n",
              "    <tr>\n",
              "      <th>target_bad</th>\n",
              "      <td>float64</td>\n",
              "    </tr>\n",
              "  </tbody>\n",
              "</table>\n",
              "</div><br><label><b>dtype:</b> object</label>"
            ]
          },
          "metadata": {}
        },
        {
          "output_type": "stream",
          "name": "stdout",
          "text": [
            "\n",
            "Nulos por columna (top 10):\n"
          ]
        },
        {
          "output_type": "display_data",
          "data": {
            "text/plain": [
              "target_bad    23\n",
              "laufzeit       0\n",
              "moral          0\n",
              "verw           0\n",
              "laufkont       0\n",
              "hoehe          0\n",
              "sparkont       0\n",
              "rate           0\n",
              "beszeit        0\n",
              "buerge         0\n",
              "dtype: int64"
            ],
            "text/html": [
              "<div>\n",
              "<style scoped>\n",
              "    .dataframe tbody tr th:only-of-type {\n",
              "        vertical-align: middle;\n",
              "    }\n",
              "\n",
              "    .dataframe tbody tr th {\n",
              "        vertical-align: top;\n",
              "    }\n",
              "\n",
              "    .dataframe thead th {\n",
              "        text-align: right;\n",
              "    }\n",
              "</style>\n",
              "<table border=\"1\" class=\"dataframe\">\n",
              "  <thead>\n",
              "    <tr style=\"text-align: right;\">\n",
              "      <th></th>\n",
              "      <th>0</th>\n",
              "    </tr>\n",
              "  </thead>\n",
              "  <tbody>\n",
              "    <tr>\n",
              "      <th>target_bad</th>\n",
              "      <td>23</td>\n",
              "    </tr>\n",
              "    <tr>\n",
              "      <th>laufzeit</th>\n",
              "      <td>0</td>\n",
              "    </tr>\n",
              "    <tr>\n",
              "      <th>moral</th>\n",
              "      <td>0</td>\n",
              "    </tr>\n",
              "    <tr>\n",
              "      <th>verw</th>\n",
              "      <td>0</td>\n",
              "    </tr>\n",
              "    <tr>\n",
              "      <th>laufkont</th>\n",
              "      <td>0</td>\n",
              "    </tr>\n",
              "    <tr>\n",
              "      <th>hoehe</th>\n",
              "      <td>0</td>\n",
              "    </tr>\n",
              "    <tr>\n",
              "      <th>sparkont</th>\n",
              "      <td>0</td>\n",
              "    </tr>\n",
              "    <tr>\n",
              "      <th>rate</th>\n",
              "      <td>0</td>\n",
              "    </tr>\n",
              "    <tr>\n",
              "      <th>beszeit</th>\n",
              "      <td>0</td>\n",
              "    </tr>\n",
              "    <tr>\n",
              "      <th>buerge</th>\n",
              "      <td>0</td>\n",
              "    </tr>\n",
              "  </tbody>\n",
              "</table>\n",
              "</div><br><label><b>dtype:</b> int64</label>"
            ]
          },
          "metadata": {}
        },
        {
          "output_type": "stream",
          "name": "stdout",
          "text": [
            "Duplicados: 0\n",
            "\n",
            "Distribución target_bad:\n"
          ]
        },
        {
          "output_type": "display_data",
          "data": {
            "text/plain": [
              "target_bad\n",
              "0.0    0.717\n",
              "1.0    0.283\n",
              "Name: proportion, dtype: float64"
            ],
            "text/html": [
              "<div>\n",
              "<style scoped>\n",
              "    .dataframe tbody tr th:only-of-type {\n",
              "        vertical-align: middle;\n",
              "    }\n",
              "\n",
              "    .dataframe tbody tr th {\n",
              "        vertical-align: top;\n",
              "    }\n",
              "\n",
              "    .dataframe thead th {\n",
              "        text-align: right;\n",
              "    }\n",
              "</style>\n",
              "<table border=\"1\" class=\"dataframe\">\n",
              "  <thead>\n",
              "    <tr style=\"text-align: right;\">\n",
              "      <th></th>\n",
              "      <th>proportion</th>\n",
              "    </tr>\n",
              "    <tr>\n",
              "      <th>target_bad</th>\n",
              "      <th></th>\n",
              "    </tr>\n",
              "  </thead>\n",
              "  <tbody>\n",
              "    <tr>\n",
              "      <th>0.0</th>\n",
              "      <td>0.717</td>\n",
              "    </tr>\n",
              "    <tr>\n",
              "      <th>1.0</th>\n",
              "      <td>0.283</td>\n",
              "    </tr>\n",
              "  </tbody>\n",
              "</table>\n",
              "</div><br><label><b>dtype:</b> float64</label>"
            ]
          },
          "metadata": {}
        }
      ]
    },
    {
      "cell_type": "markdown",
      "source": [
        "## Reglas de dominio y rango"
      ],
      "metadata": {
        "id": "-RKG3YFtS4RD"
      }
    },
    {
      "cell_type": "code",
      "source": [
        "VALID = {\n",
        "    \"laufkont\":{1,2,3,4},\"moral\":{0,1,2,3,4},\"verw\":set(range(0,11)),\"sparkont\":{1,2,3,4,5},\n",
        "    \"beszeit\":{1,2,3,4,5},\"rate\":{1,2,3,4},\"famges\":{1,2,3,4},\"buerge\":{1,2,3},\n",
        "    \"wohnzeit\":{1,2,3,4},\"verm\":{1,2,3,4},\"weitkred\":{1,2,3},\"wohn\":{1,2,3},\n",
        "    \"bishkred\":{1,2,3,4},\"beruf\":{1,2,3,4},\"pers\":{1,2},\"telef\":{1,2},\"gastarb\":{1,2}\n",
        "}\n",
        "RANGE = {\"alter\":(18,75),\"laufzeit\":(4,72),\"hoehe\":(250,None)}\n",
        "\n",
        "invalid_nonzero = {}\n",
        "for col, dom in VALID.items():\n",
        "    if col in df.columns:\n",
        "        invalid_nonzero[col] = int((~df[col].isin(dom)).sum())\n",
        "invalid_nonzero = {k:v for k,v in invalid_nonzero.items() if v>0}\n",
        "\n",
        "range_viol = {}\n",
        "for col,(lo,hi) in RANGE.items():\n",
        "    if col in df.columns:\n",
        "        m = ((lo is not None) & (df[col] < lo)) | ((hi is not None) & (df[col] > hi))\n",
        "        range_viol[col] = int(m.sum())\n",
        "range_viol = {k:v for k,v in range_viol.items() if v>0}\n",
        "\n",
        "print(\"Invalid codes (non-zero):\", invalid_nonzero)\n",
        "print(\"Range violations (non-zero):\", range_viol)\n"
      ],
      "metadata": {
        "colab": {
          "base_uri": "https://localhost:8080/"
        },
        "id": "juqp8fLrS8i5",
        "outputId": "c4bee222-9dcc-47a1-ff97-a3015ac803ce"
      },
      "execution_count": null,
      "outputs": [
        {
          "output_type": "stream",
          "name": "stdout",
          "text": [
            "Invalid codes (non-zero): {}\n",
            "Range violations (non-zero): {}\n"
          ]
        }
      ]
    },
    {
      "cell_type": "markdown",
      "source": [
        "##EDA básico (distribuciones y correlaciones)"
      ],
      "metadata": {
        "id": "t8qYo_pw-E5j"
      }
    },
    {
      "cell_type": "code",
      "source": [
        "import math\n",
        "\n",
        "\n",
        "cont_cols = [c for c in [\"alter\",\"laufzeit\",\"hoehe\"] if c in df.columns]\n",
        "cat_cols  = [c for c in VALID.keys() if c in df.columns]\n",
        "\n",
        "# --- MODIFICADO: Histogramas en una rejilla de 3 columnas ---\n",
        "n_cols = 3\n",
        "n_rows = math.ceil(len(cont_cols) / n_cols)\n",
        "fig, axes = plt.subplots(n_rows, n_cols, figsize=(15, n_rows * 4))\n",
        "axes = axes.flatten()\n",
        "\n",
        "for i, c in enumerate(cont_cols):\n",
        "    ax = axes[i]\n",
        "    df[c].hist(ax=ax, bins=20, edgecolor=\"black\")\n",
        "    ax.set_title(f\"Histograma: {c}\")\n",
        "    ax.set_xlabel(c); ax.set_ylabel(\"Frecuencia\")\n",
        "\n",
        "# Ocultar ejes no utilizados\n",
        "for i in range(len(cont_cols), len(axes)):\n",
        "    axes[i].axis('off')\n",
        "\n",
        "plt.tight_layout()\n",
        "# plt.savefig(RUN_DIR / \"hists_continuas.png\", bbox_inches=\"tight\")\n",
        "plt.show()\n",
        "\n",
        "\n",
        "# --- MODIFICADO: Boxplots en una rejilla de 3 columnas ---\n",
        "fig, axes = plt.subplots(n_rows, n_cols, figsize=(15, n_rows * 4))\n",
        "axes = axes.flatten()\n",
        "\n",
        "for i, c in enumerate(cont_cols):\n",
        "    ax = axes[i]\n",
        "    sns.boxplot(x=df[c], ax=ax)\n",
        "    ax.set_title(f\"Boxplot: {c}\")\n",
        "\n",
        "# Ocultar ejes no utilizados\n",
        "for i in range(len(cont_cols), len(axes)):\n",
        "    axes[i].axis('off')\n",
        "\n",
        "plt.tight_layout()\n",
        "# plt.savefig(RUN_DIR / \"boxplots_continuas.png\", bbox_inches=\"tight\")\n",
        "plt.show()\n",
        "\n",
        "# Correlación con target\n",
        "corr = df.corr(numeric_only=True)[\"target_bad\"].sort_values(ascending=False)\n",
        "display(corr)\n",
        "\n",
        "corr.to_csv(RUN_DIR / \"corr_vs_target.csv\")\n",
        "print(\"Guardado: correlaciones vs target en\", RUN_DIR / \"corr_vs_target.csv\")\n",
        "\n",
        "# Conteos de categóricas (muestra)\n",
        "for c in cat_cols[:6]:\n",
        "    vc = df[c].value_counts(dropna=False)\n",
        "    display(vc)\n",
        "    vc.to_csv(RUN_DIR / f\"value_counts_{c}.csv\")\n"
      ],
      "metadata": {
        "colab": {
          "base_uri": "https://localhost:8080/",
          "height": 1000
        },
        "id": "wf0qHa6N-H4H",
        "outputId": "3a8b61d3-afb2-4d67-f0e2-5c469cbd6ba8"
      },
      "execution_count": null,
      "outputs": [
        {
          "output_type": "display_data",
          "data": {
            "text/plain": [
              "<Figure size 1500x400 with 3 Axes>"
            ],
            "image/png": "[encoded data removed]"
          },
          "metadata": {}
        },
        {
          "output_type": "display_data",
          "data": {
            "text/plain": [
              "<Figure size 1500x400 with 3 Axes>"
            ],
            "image/png": "[encoded data removed]"
          },
          "metadata": {}
        },
        {
          "output_type": "display_data",
          "data": {
            "text/plain": [
              "target_bad    1.000000\n",
              "laufzeit      0.230866\n",
              "verm          0.113935\n",
              "rate          0.111665\n",
              "gastarb       0.100970\n",
              "hoehe         0.061424\n",
              "verw          0.003789\n",
              "beruf        -0.000394\n",
              "pers         -0.003213\n",
              "wohnzeit     -0.007259\n",
              "wohn         -0.017413\n",
              "buerge       -0.023309\n",
              "bishkred     -0.056490\n",
              "telef        -0.084897\n",
              "alter        -0.088962\n",
              "famges       -0.092299\n",
              "weitkred     -0.117094\n",
              "beszeit      -0.131159\n",
              "sparkont     -0.164959\n",
              "moral        -0.232796\n",
              "laufkont     -0.348640\n",
              "Name: target_bad, dtype: float64"
            ],
            "text/html": [
              "<div>\n",
              "<style scoped>\n",
              "    .dataframe tbody tr th:only-of-type {\n",
              "        vertical-align: middle;\n",
              "    }\n",
              "\n",
              "    .dataframe tbody tr th {\n",
              "        vertical-align: top;\n",
              "    }\n",
              "\n",
              "    .dataframe thead th {\n",
              "        text-align: right;\n",
              "    }\n",
              "</style>\n",
              "<table border=\"1\" class=\"dataframe\">\n",
              "  <thead>\n",
              "    <tr style=\"text-align: right;\">\n",
              "      <th></th>\n",
              "      <th>target_bad</th>\n",
              "    </tr>\n",
              "  </thead>\n",
              "  <tbody>\n",
              "    <tr>\n",
              "      <th>target_bad</th>\n",
              "      <td>1.000000</td>\n",
              "    </tr>\n",
              "    <tr>\n",
              "      <th>laufzeit</th>\n",
              "      <td>0.230866</td>\n",
              "    </tr>\n",
              "    <tr>\n",
              "      <th>verm</th>\n",
              "      <td>0.113935</td>\n",
              "    </tr>\n",
              "    <tr>\n",
              "      <th>rate</th>\n",
              "      <td>0.111665</td>\n",
              "    </tr>\n",
              "    <tr>\n",
              "      <th>gastarb</th>\n",
              "      <td>0.100970</td>\n",
              "    </tr>\n",
              "    <tr>\n",
              "      <th>hoehe</th>\n",
              "      <td>0.061424</td>\n",
              "    </tr>\n",
              "    <tr>\n",
              "      <th>verw</th>\n",
              "      <td>0.003789</td>\n",
              "    </tr>\n",
              "    <tr>\n",
              "      <th>beruf</th>\n",
              "      <td>-0.000394</td>\n",
              "    </tr>\n",
              "    <tr>\n",
              "      <th>pers</th>\n",
              "      <td>-0.003213</td>\n",
              "    </tr>\n",
              "    <tr>\n",
              "      <th>wohnzeit</th>\n",
              "      <td>-0.007259</td>\n",
              "    </tr>\n",
              "    <tr>\n",
              "      <th>wohn</th>\n",
              "      <td>-0.017413</td>\n",
              "    </tr>\n",
              "    <tr>\n",
              "      <th>buerge</th>\n",
              "      <td>-0.023309</td>\n",
              "    </tr>\n",
              "    <tr>\n",
              "      <th>bishkred</th>\n",
              "      <td>-0.056490</td>\n",
              "    </tr>\n",
              "    <tr>\n",
              "      <th>telef</th>\n",
              "      <td>-0.084897</td>\n",
              "    </tr>\n",
              "    <tr>\n",
              "      <th>alter</th>\n",
              "      <td>-0.088962</td>\n",
              "    </tr>\n",
              "    <tr>\n",
              "      <th>famges</th>\n",
              "      <td>-0.092299</td>\n",
              "    </tr>\n",
              "    <tr>\n",
              "      <th>weitkred</th>\n",
              "      <td>-0.117094</td>\n",
              "    </tr>\n",
              "    <tr>\n",
              "      <th>beszeit</th>\n",
              "      <td>-0.131159</td>\n",
              "    </tr>\n",
              "    <tr>\n",
              "      <th>sparkont</th>\n",
              "      <td>-0.164959</td>\n",
              "    </tr>\n",
              "    <tr>\n",
              "      <th>moral</th>\n",
              "      <td>-0.232796</td>\n",
              "    </tr>\n",
              "    <tr>\n",
              "      <th>laufkont</th>\n",
              "      <td>-0.348640</td>\n",
              "    </tr>\n",
              "  </tbody>\n",
              "</table>\n",
              "</div><br><label><b>dtype:</b> float64</label>"
            ]
          },
          "metadata": {}
        },
        {
          "output_type": "stream",
          "name": "stdout",
          "text": [
            "Guardado: correlaciones vs target en /content/drive/MyDrive/OperacionesML/Fase1/artifacts/run_20251012_202156/corr_vs_target.csv\n"
          ]
        },
        {
          "output_type": "display_data",
          "data": {
            "text/plain": [
              "laufkont\n",
              "4.0    383\n",
              "1.0    249\n",
              "2.0    230\n",
              "3.0     61\n",
              "Name: count, dtype: int64"
            ],
            "text/html": [
              "<div>\n",
              "<style scoped>\n",
              "    .dataframe tbody tr th:only-of-type {\n",
              "        vertical-align: middle;\n",
              "    }\n",
              "\n",
              "    .dataframe tbody tr th {\n",
              "        vertical-align: top;\n",
              "    }\n",
              "\n",
              "    .dataframe thead th {\n",
              "        text-align: right;\n",
              "    }\n",
              "</style>\n",
              "<table border=\"1\" class=\"dataframe\">\n",
              "  <thead>\n",
              "    <tr style=\"text-align: right;\">\n",
              "      <th></th>\n",
              "      <th>count</th>\n",
              "    </tr>\n",
              "    <tr>\n",
              "      <th>laufkont</th>\n",
              "      <th></th>\n",
              "    </tr>\n",
              "  </thead>\n",
              "  <tbody>\n",
              "    <tr>\n",
              "      <th>4.0</th>\n",
              "      <td>383</td>\n",
              "    </tr>\n",
              "    <tr>\n",
              "      <th>1.0</th>\n",
              "      <td>249</td>\n",
              "    </tr>\n",
              "    <tr>\n",
              "      <th>2.0</th>\n",
              "      <td>230</td>\n",
              "    </tr>\n",
              "    <tr>\n",
              "      <th>3.0</th>\n",
              "      <td>61</td>\n",
              "    </tr>\n",
              "  </tbody>\n",
              "</table>\n",
              "</div><br><label><b>dtype:</b> int64</label>"
            ]
          },
          "metadata": {}
        },
        {
          "output_type": "display_data",
          "data": {
            "text/plain": [
              "moral\n",
              "2.0    507\n",
              "4.0    270\n",
              "3.0     72\n",
              "1.0     44\n",
              "0.0     30\n",
              "Name: count, dtype: int64"
            ],
            "text/html": [
              "<div>\n",
              "<style scoped>\n",
              "    .dataframe tbody tr th:only-of-type {\n",
              "        vertical-align: middle;\n",
              "    }\n",
              "\n",
              "    .dataframe tbody tr th {\n",
              "        vertical-align: top;\n",
              "    }\n",
              "\n",
              "    .dataframe thead th {\n",
              "        text-align: right;\n",
              "    }\n",
              "</style>\n",
              "<table border=\"1\" class=\"dataframe\">\n",
              "  <thead>\n",
              "    <tr style=\"text-align: right;\">\n",
              "      <th></th>\n",
              "      <th>count</th>\n",
              "    </tr>\n",
              "    <tr>\n",
              "      <th>moral</th>\n",
              "      <th></th>\n",
              "    </tr>\n",
              "  </thead>\n",
              "  <tbody>\n",
              "    <tr>\n",
              "      <th>2.0</th>\n",
              "      <td>507</td>\n",
              "    </tr>\n",
              "    <tr>\n",
              "      <th>4.0</th>\n",
              "      <td>270</td>\n",
              "    </tr>\n",
              "    <tr>\n",
              "      <th>3.0</th>\n",
              "      <td>72</td>\n",
              "    </tr>\n",
              "    <tr>\n",
              "      <th>1.0</th>\n",
              "      <td>44</td>\n",
              "    </tr>\n",
              "    <tr>\n",
              "      <th>0.0</th>\n",
              "      <td>30</td>\n",
              "    </tr>\n",
              "  </tbody>\n",
              "</table>\n",
              "</div><br><label><b>dtype:</b> int64</label>"
            ]
          },
          "metadata": {}
        },
        {
          "output_type": "display_data",
          "data": {
            "text/plain": [
              "verw\n",
              "3.0     290\n",
              "0.0     206\n",
              "2.0     172\n",
              "9.0      85\n",
              "1.0      79\n",
              "6.0      43\n",
              "5.0      20\n",
              "4.0      12\n",
              "8.0       9\n",
              "10.0      7\n",
              "Name: count, dtype: int64"
            ],
            "text/html": [
              "<div>\n",
              "<style scoped>\n",
              "    .dataframe tbody tr th:only-of-type {\n",
              "        vertical-align: middle;\n",
              "    }\n",
              "\n",
              "    .dataframe tbody tr th {\n",
              "        vertical-align: top;\n",
              "    }\n",
              "\n",
              "    .dataframe thead th {\n",
              "        text-align: right;\n",
              "    }\n",
              "</style>\n",
              "<table border=\"1\" class=\"dataframe\">\n",
              "  <thead>\n",
              "    <tr style=\"text-align: right;\">\n",
              "      <th></th>\n",
              "      <th>count</th>\n",
              "    </tr>\n",
              "    <tr>\n",
              "      <th>verw</th>\n",
              "      <th></th>\n",
              "    </tr>\n",
              "  </thead>\n",
              "  <tbody>\n",
              "    <tr>\n",
              "      <th>3.0</th>\n",
              "      <td>290</td>\n",
              "    </tr>\n",
              "    <tr>\n",
              "      <th>0.0</th>\n",
              "      <td>206</td>\n",
              "    </tr>\n",
              "    <tr>\n",
              "      <th>2.0</th>\n",
              "      <td>172</td>\n",
              "    </tr>\n",
              "    <tr>\n",
              "      <th>9.0</th>\n",
              "      <td>85</td>\n",
              "    </tr>\n",
              "    <tr>\n",
              "      <th>1.0</th>\n",
              "      <td>79</td>\n",
              "    </tr>\n",
              "    <tr>\n",
              "      <th>6.0</th>\n",
              "      <td>43</td>\n",
              "    </tr>\n",
              "    <tr>\n",
              "      <th>5.0</th>\n",
              "      <td>20</td>\n",
              "    </tr>\n",
              "    <tr>\n",
              "      <th>4.0</th>\n",
              "      <td>12</td>\n",
              "    </tr>\n",
              "    <tr>\n",
              "      <th>8.0</th>\n",
              "      <td>9</td>\n",
              "    </tr>\n",
              "    <tr>\n",
              "      <th>10.0</th>\n",
              "      <td>7</td>\n",
              "    </tr>\n",
              "  </tbody>\n",
              "</table>\n",
              "</div><br><label><b>dtype:</b> int64</label>"
            ]
          },
          "metadata": {}
        },
        {
          "output_type": "display_data",
          "data": {
            "text/plain": [
              "sparkont\n",
              "1.0    568\n",
              "5.0    160\n",
              "2.0     93\n",
              "3.0     57\n",
              "4.0     45\n",
              "Name: count, dtype: int64"
            ],
            "text/html": [
              "<div>\n",
              "<style scoped>\n",
              "    .dataframe tbody tr th:only-of-type {\n",
              "        vertical-align: middle;\n",
              "    }\n",
              "\n",
              "    .dataframe tbody tr th {\n",
              "        vertical-align: top;\n",
              "    }\n",
              "\n",
              "    .dataframe thead th {\n",
              "        text-align: right;\n",
              "    }\n",
              "</style>\n",
              "<table border=\"1\" class=\"dataframe\">\n",
              "  <thead>\n",
              "    <tr style=\"text-align: right;\">\n",
              "      <th></th>\n",
              "      <th>count</th>\n",
              "    </tr>\n",
              "    <tr>\n",
              "      <th>sparkont</th>\n",
              "      <th></th>\n",
              "    </tr>\n",
              "  </thead>\n",
              "  <tbody>\n",
              "    <tr>\n",
              "      <th>1.0</th>\n",
              "      <td>568</td>\n",
              "    </tr>\n",
              "    <tr>\n",
              "      <th>5.0</th>\n",
              "      <td>160</td>\n",
              "    </tr>\n",
              "    <tr>\n",
              "      <th>2.0</th>\n",
              "      <td>93</td>\n",
              "    </tr>\n",
              "    <tr>\n",
              "      <th>3.0</th>\n",
              "      <td>57</td>\n",
              "    </tr>\n",
              "    <tr>\n",
              "      <th>4.0</th>\n",
              "      <td>45</td>\n",
              "    </tr>\n",
              "  </tbody>\n",
              "</table>\n",
              "</div><br><label><b>dtype:</b> int64</label>"
            ]
          },
          "metadata": {}
        },
        {
          "output_type": "display_data",
          "data": {
            "text/plain": [
              "beszeit\n",
              "3.0    329\n",
              "5.0    227\n",
              "2.0    158\n",
              "4.0    156\n",
              "1.0     53\n",
              "Name: count, dtype: int64"
            ],
            "text/html": [
              "<div>\n",
              "<style scoped>\n",
              "    .dataframe tbody tr th:only-of-type {\n",
              "        vertical-align: middle;\n",
              "    }\n",
              "\n",
              "    .dataframe tbody tr th {\n",
              "        vertical-align: top;\n",
              "    }\n",
              "\n",
              "    .dataframe thead th {\n",
              "        text-align: right;\n",
              "    }\n",
              "</style>\n",
              "<table border=\"1\" class=\"dataframe\">\n",
              "  <thead>\n",
              "    <tr style=\"text-align: right;\">\n",
              "      <th></th>\n",
              "      <th>count</th>\n",
              "    </tr>\n",
              "    <tr>\n",
              "      <th>beszeit</th>\n",
              "      <th></th>\n",
              "    </tr>\n",
              "  </thead>\n",
              "  <tbody>\n",
              "    <tr>\n",
              "      <th>3.0</th>\n",
              "      <td>329</td>\n",
              "    </tr>\n",
              "    <tr>\n",
              "      <th>5.0</th>\n",
              "      <td>227</td>\n",
              "    </tr>\n",
              "    <tr>\n",
              "      <th>2.0</th>\n",
              "      <td>158</td>\n",
              "    </tr>\n",
              "    <tr>\n",
              "      <th>4.0</th>\n",
              "      <td>156</td>\n",
              "    </tr>\n",
              "    <tr>\n",
              "      <th>1.0</th>\n",
              "      <td>53</td>\n",
              "    </tr>\n",
              "  </tbody>\n",
              "</table>\n",
              "</div><br><label><b>dtype:</b> int64</label>"
            ]
          },
          "metadata": {}
        },
        {
          "output_type": "display_data",
          "data": {
            "text/plain": [
              "rate\n",
              "4.0    469\n",
              "2.0    188\n",
              "3.0    147\n",
              "1.0    119\n",
              "Name: count, dtype: int64"
            ],
            "text/html": [
              "<div>\n",
              "<style scoped>\n",
              "    .dataframe tbody tr th:only-of-type {\n",
              "        vertical-align: middle;\n",
              "    }\n",
              "\n",
              "    .dataframe tbody tr th {\n",
              "        vertical-align: top;\n",
              "    }\n",
              "\n",
              "    .dataframe thead th {\n",
              "        text-align: right;\n",
              "    }\n",
              "</style>\n",
              "<table border=\"1\" class=\"dataframe\">\n",
              "  <thead>\n",
              "    <tr style=\"text-align: right;\">\n",
              "      <th></th>\n",
              "      <th>count</th>\n",
              "    </tr>\n",
              "    <tr>\n",
              "      <th>rate</th>\n",
              "      <th></th>\n",
              "    </tr>\n",
              "  </thead>\n",
              "  <tbody>\n",
              "    <tr>\n",
              "      <th>4.0</th>\n",
              "      <td>469</td>\n",
              "    </tr>\n",
              "    <tr>\n",
              "      <th>2.0</th>\n",
              "      <td>188</td>\n",
              "    </tr>\n",
              "    <tr>\n",
              "      <th>3.0</th>\n",
              "      <td>147</td>\n",
              "    </tr>\n",
              "    <tr>\n",
              "      <th>1.0</th>\n",
              "      <td>119</td>\n",
              "    </tr>\n",
              "  </tbody>\n",
              "</table>\n",
              "</div><br><label><b>dtype:</b> int64</label>"
            ]
          },
          "metadata": {}
        }
      ]
    },
    {
      "cell_type": "markdown",
      "source": [
        "Los histogramas y boxplots de las variables numéricas nos pintan un cuadro muy consistente:\n",
        "\n",
        "\n",
        "*   Edad (alter): La mayoría de los solicitantes son jóvenes, concentrados principalmente entre los 20 y 40 años. La distribución está sesgada hacia la derecha, lo que significa que hay menos solicitantes a medida que la edad aumenta. Los outliers (puntos atípicos) en el boxplot confirman que hay algunas personas de edad avanzada, pero son la excepción.\n",
        "*   Monto del Crédito (hoehe): La gran mayoría de los créditos solicitados son de montos bajos (probablemente menos de 3,000). La distribución está fuertemente sesgada a la derecha, indicando que muy pocos créditos son por montos altos. Esto es típico en datos financieros.\n",
        "*   Duración del Crédito (laufzeit): Los solicitantes prefieren plazos de corta a mediana duración. Los picos en el histograma sugieren que los plazos más populares son los estándares, como 12, 24 y 36 meses. Al igual que las otras variables, está sesgada a la derecha, con algunos créditos a plazos muy largos que se consideran atípicos.\n",
        "\n",
        "\n",
        "Conclusión Parcial: El solicitante típico es una persona joven que pide un préstamo relativamente pequeño a un plazo estándar."
      ],
      "metadata": {
        "id": "r-ROOoWjEK7l"
      }
    },
    {
      "cell_type": "markdown",
      "source": [
        "# Conclusiones Clave para el Modelo de Riesgo\n",
        "Los Ahorros son un Factor Crítico: El hecho de que la mayoría de los clientes tengan pocos ahorros es probablemente uno de los predictores más fuertes de riesgo. Un solicitante sin un colchón financiero es más vulnerable a un impago si surge un imprevisto.\n",
        "\n",
        "El Sesgo es la Norma: Todas tus variables numéricas están sesgadas. Esto es importante porque algunos modelos de machine learning funcionan mejor si los datos se asemejan a una distribución normal. Podrías necesitar aplicar transformaciones (como la transformación logarítmica) al monto del crédito (hoehe) más adelante.\n",
        "\n",
        "Tensión entre Estabilidad y Riesgo: Existe una interesante dualidad: los solicitantes suelen tener empleos estables, pero al mismo tiempo tienen pocos ahorros y aceptan altas tasas de pago. Tu modelo deberá aprender a ponderar estos factores opuestos para determinar el riesgo real.\n",
        "\n",
        "Los Outliers son Relevantes: Los boxplots muestran claramente que existen solicitantes con edades, montos y plazos de crédito muy por encima de la media. Es importante que tu modelo sea robusto frente a estos outliers o que decidas cómo tratarlos."
      ],
      "metadata": {
        "id": "7SYzQXAFEPbT"
      }
    },
    {
      "cell_type": "markdown",
      "source": [
        "## Outliers IQR (reporte, sin modificar datos)\n",
        "detectar y contar los valores atípicos (outliers) en las columnas numéricas"
      ],
      "metadata": {
        "id": "vKGFktuCBdrw"
      }
    },
    {
      "cell_type": "code",
      "source": [
        "def iqr_bounds(s, min_floor=None):\n",
        "    q1,q3 = s.quantile([0.25,0.75])\n",
        "    iqr = q3 - q1\n",
        "    low = q1 - 1.5*iqr\n",
        "    high = q3 + 1.5*iqr\n",
        "    if min_floor is not None:\n",
        "        low = max(low, min_floor)\n",
        "    return low, high\n",
        "\n",
        "out_report = {}\n",
        "for c in cont_cols:\n",
        "    low, high = iqr_bounds(df[c].dropna(), min_floor=RANGE.get(c,(None,None))[0])\n",
        "    cnt = int(((df[c] < low) | (df[c] > high)).sum())\n",
        "    out_report[c] = {\"low\":float(low), \"high\":float(high), \"outliers\":cnt}\n",
        "out_path = RUN_DIR / \"outliers_iqr.json\"\n",
        "json.dump(out_report, open(out_path,\"w\"), indent=2)\n",
        "print(json.dumps(out_report, indent=2))\n",
        "print(\"Guardado:\", out_path)\n"
      ],
      "metadata": {
        "colab": {
          "base_uri": "https://localhost:8080/"
        },
        "id": "kcSwWX3hBlHw",
        "outputId": "32a1e6e4-6af8-4b2a-eeda-69689f4e4348"
      },
      "execution_count": null,
      "outputs": [
        {
          "output_type": "stream",
          "name": "stdout",
          "text": [
            "{\n",
            "  \"alter\": {\n",
            "    \"low\": 18.0,\n",
            "    \"high\": 62.0,\n",
            "    \"outliers\": 34\n",
            "  },\n",
            "  \"laufzeit\": {\n",
            "    \"low\": 4.0,\n",
            "    \"high\": 42.0,\n",
            "    \"outliers\": 44\n",
            "  },\n",
            "  \"hoehe\": {\n",
            "    \"low\": 250.0,\n",
            "    \"high\": 6915.75,\n",
            "    \"outliers\": 36\n",
            "  }\n",
            "}\n",
            "Guardado: /content/drive/MyDrive/OperacionesML/Fase1/artifacts/run_20251012_202156/outliers_iqr.json\n"
          ]
        }
      ]
    },
    {
      "cell_type": "markdown",
      "source": [
        "\n",
        "*   Para alter (Edad):\n",
        "\n",
        "El rango de edad considerado \"normal\" por este método es entre 18.0 y 62.0 años.\n",
        "\n",
        "Se encontraron 34 solicitantes con una edad superior a 62, los cuales son marcados como valores atípicos.\n",
        "\n",
        "*   Para laufzeit (Duración del Crédito):\n",
        "\n",
        "El rango de duración \"normal\" es entre 4.0 y 42.0 meses.\n",
        "\n",
        "Se encontraron 44 créditos con una duración mayor a 42 meses (más de 3.5 años), que son considerados atípicos.\n",
        "*   Para hoehe (Monto del Crédito):\n",
        "\n",
        "El rango de monto \"normal\" es entre 250.0 y 6,915.75.\n",
        "\n",
        "Se encontraron 36 préstamos solicitados por un monto superior a 6,915.75, marcándolos como atípicos.\n",
        "\n",
        "\n",
        "\n",
        "\n",
        "\n"
      ],
      "metadata": {
        "id": "SbfN9RIMDFjb"
      }
    },
    {
      "cell_type": "markdown",
      "source": [
        "## Preprocesamiento (imputación simple + escalado) y split"
      ],
      "metadata": {
        "id": "T_k2f3l_HuTx"
      }
    },
    {
      "cell_type": "code",
      "source": [
        "# Copia para asegurar 0 duplicados\n",
        "df2 = df.drop_duplicates().copy()\n",
        "\n",
        "# --- Imputación SOLO en features (no tocar el target) ---\n",
        "for col in df2.columns:\n",
        "    if col == \"target_bad\":\n",
        "        continue\n",
        "    if col in cont_cols:          # continuas: mediana\n",
        "        df2[col] = df2[col].fillna(df2[col].median())\n",
        "    else:                         # categóricas: moda\n",
        "        moda = df2[col].mode(dropna=True)\n",
        "        if not moda.empty:\n",
        "            df2[col] = df2[col].fillna(moda.iloc[0])\n",
        "\n",
        "# --- Asegurar que el target sea válido (0/1) y sin NaN ---\n",
        "n_target_na = int(df2[\"target_bad\"].isna().sum())\n",
        "if n_target_na > 0:\n",
        "    print(f\"Eliminando {n_target_na} filas con target_bad = NaN\")\n",
        "    df2 = df2.dropna(subset=[\"target_bad\"]).copy()\n",
        "\n",
        "vals = set(df2[\"target_bad\"].unique())\n",
        "if not vals <= {0, 1}:\n",
        "    raise ValueError(f\"Valores no binarios en target_bad: {sorted(vals)}\")\n",
        "\n",
        "print(\"NA totales tras imputación (solo features):\", int(df2.drop(columns=[\"target_bad\"]).isna().sum().sum()))\n",
        "\n",
        "# --- Construir X, y ---\n",
        "X = df2.drop(columns=[\"target_bad\"])\n",
        "y = df2[\"target_bad\"].astype(\"int64\")   # ya no debe fallar\n",
        "\n",
        "# --- Escalado solo en continuas ---\n",
        "scaler = StandardScaler()\n",
        "X_scaled = X.copy()\n",
        "if cont_cols:\n",
        "    X_scaled[cont_cols] = scaler.fit_transform(X_scaled[cont_cols])\n",
        "\n",
        "# --- Split ---\n",
        "X_train, X_test, y_train, y_test = train_test_split(\n",
        "    X_scaled, y, test_size=0.25, stratify=y, random_state=RANDOM_STATE\n",
        ")\n",
        "print(\"Train:\", X_train.shape, \" Test:\", X_test.shape)\n",
        "print(\"Distribución y:\", y.value_counts(normalize=True).round(3).to_dict())\n",
        "\n",
        "# --- Guardar dataset listo ---\n",
        "ready = X_scaled.copy()\n",
        "ready[\"target_bad\"] = y.values\n",
        "ready_path = DATA_DIR / \"analysis_ready.csv\" #dataset listo para entrenamiento\n",
        "ready.to_csv(ready_path, index=False)\n",
        "print(\"[OK] analysis_ready ->\", ready_path)\n",
        "\n"
      ],
      "metadata": {
        "colab": {
          "base_uri": "https://localhost:8080/"
        },
        "id": "-9JBpTa1H0Gh",
        "outputId": "9d4129f0-7e68-47dc-8cbe-5118cb7609f5"
      },
      "execution_count": null,
      "outputs": [
        {
          "output_type": "stream",
          "name": "stdout",
          "text": [
            "Eliminando 23 filas con target_bad = NaN\n",
            "NA totales tras imputación (solo features): 0\n",
            "Train: (675, 20)  Test: (225, 20)\n",
            "Distribución y: {0: 0.717, 1: 0.283}\n",
            "[OK] analysis_ready -> /content/drive/MyDrive/OperacionesML/Fase1/data/interim/analysis_ready.csv\n"
          ]
        }
      ]
    },
    {
      "cell_type": "markdown",
      "source": [
        "## Interación con DVC"
      ],
      "metadata": {
        "id": "o9T5E7JzHENV"
      }
    },
    {
      "cell_type": "code",
      "source": [
        "!pip -q install mlflow==2.16.0 dvc[gdrive]==3.55.2 dvc[s3]==3.55.2 scikit-learn==1.5.2 pyyaml==6.0.2"
      ],
      "metadata": {
        "colab": {
          "base_uri": "https://localhost:8080/"
        },
        "id": "cuaX6QY2F0zv",
        "outputId": "ff8f8040-1204-4767-b762-30e718ac5de0"
      },
      "execution_count": null,
      "outputs": [
        {
          "output_type": "stream",
          "name": "stdout",
          "text": [
            "\u001b[2K   \u001b[90m━━━━━━━━━━━━━━━━━━━━━━━━━━━━━━━━━━━━━━━━\u001b[0m \u001b[32m26.6/26.6 MB\u001b[0m \u001b[31m57.5 MB/s\u001b[0m eta \u001b[36m0:00:00\u001b[0m\n",
            "\u001b[2K   \u001b[90m━━━━━━━━━━━━━━━━━━━━━━━━━━━━━━━━━━━━━━━━\u001b[0m \u001b[32m455.1/455.1 kB\u001b[0m \u001b[31m31.6 MB/s\u001b[0m eta \u001b[36m0:00:00\u001b[0m\n",
            "\u001b[2K   \u001b[90m━━━━━━━━━━━━━━━━━━━━━━━━━━━━━━━━━━━━━━━━\u001b[0m \u001b[32m12.9/12.9 MB\u001b[0m \u001b[31m81.4 MB/s\u001b[0m eta \u001b[36m0:00:00\u001b[0m\n",
            "\u001b[2K   \u001b[90m━━━━━━━━━━━━━━━━━━━━━━━━━━━━━━━━━━━━━━━━\u001b[0m \u001b[32m767.5/767.5 kB\u001b[0m \u001b[31m40.1 MB/s\u001b[0m eta \u001b[36m0:00:00\u001b[0m\n",
            "\u001b[2K   \u001b[90m━━━━━━━━━━━━━━━━━━━━━━━━━━━━━━━━━━━━━━━━\u001b[0m \u001b[32m5.6/5.6 MB\u001b[0m \u001b[31m89.8 MB/s\u001b[0m eta \u001b[36m0:00:00\u001b[0m\n",
            "\u001b[2K   \u001b[90m━━━━━━━━━━━━━━━━━━━━━━━━━━━━━━━━━━━━━━━━\u001b[0m \u001b[32m147.8/147.8 kB\u001b[0m \u001b[31m10.1 MB/s\u001b[0m eta \u001b[36m0:00:00\u001b[0m\n",
            "\u001b[2K   \u001b[90m━━━━━━━━━━━━━━━━━━━━━━━━━━━━━━━━━━━━━━━━\u001b[0m \u001b[32m78.2/78.2 kB\u001b[0m \u001b[31m6.4 MB/s\u001b[0m eta \u001b[36m0:00:00\u001b[0m\n",
            "\u001b[2K   \u001b[90m━━━━━━━━━━━━━━━━━━━━━━━━━━━━━━━━━━━━━━━━\u001b[0m \u001b[32m438.8/438.8 kB\u001b[0m \u001b[31m28.1 MB/s\u001b[0m eta \u001b[36m0:00:00\u001b[0m\n",
            "\u001b[2K   \u001b[90m━━━━━━━━━━━━━━━━━━━━━━━━━━━━━━━━━━━━━━━━\u001b[0m \u001b[32m41.8/41.8 kB\u001b[0m \u001b[31m2.8 MB/s\u001b[0m eta \u001b[36m0:00:00\u001b[0m\n",
            "\u001b[2K   \u001b[90m━━━━━━━━━━━━━━━━━━━━━━━━━━━━━━━━━━━━━━━━\u001b[0m \u001b[32m114.9/114.9 kB\u001b[0m \u001b[31m9.0 MB/s\u001b[0m eta \u001b[36m0:00:00\u001b[0m\n",
            "\u001b[2K   \u001b[90m━━━━━━━━━━━━━━━━━━━━━━━━━━━━━━━━━━━━━━━━\u001b[0m \u001b[32m45.0/45.0 kB\u001b[0m \u001b[31m3.6 MB/s\u001b[0m eta \u001b[36m0:00:00\u001b[0m\n",
            "\u001b[2K   \u001b[90m━━━━━━━━━━━━━━━━━━━━━━━━━━━━━━━━━━━━━━━━\u001b[0m \u001b[32m85.0/85.0 kB\u001b[0m \u001b[31m7.2 MB/s\u001b[0m eta \u001b[36m0:00:00\u001b[0m\n",
            "\u001b[2K   \u001b[90m━━━━━━━━━━━━━━━━━━━━━━━━━━━━━━━━━━━━━━━━\u001b[0m \u001b[32m154.5/154.5 kB\u001b[0m \u001b[31m10.9 MB/s\u001b[0m eta \u001b[36m0:00:00\u001b[0m\n",
            "\u001b[2K   \u001b[90m━━━━━━━━━━━━━━━━━━━━━━━━━━━━━━━━━━━━━━━━\u001b[0m \u001b[32m210.0/210.0 kB\u001b[0m \u001b[31m15.7 MB/s\u001b[0m eta \u001b[36m0:00:00\u001b[0m\n",
            "\u001b[2K   \u001b[90m━━━━━━━━━━━━━━━━━━━━━━━━━━━━━━━━━━━━━━━━\u001b[0m \u001b[32m65.5/65.5 kB\u001b[0m \u001b[31m4.5 MB/s\u001b[0m eta \u001b[36m0:00:00\u001b[0m\n",
            "\u001b[2K   \u001b[90m━━━━━━━━━━━━━━━━━━━━━━━━━━━━━━━━━━━━━━━━\u001b[0m \u001b[32m39.9/39.9 MB\u001b[0m \u001b[31m18.8 MB/s\u001b[0m eta \u001b[36m0:00:00\u001b[0m\n",
            "\u001b[2K   \u001b[90m━━━━━━━━━━━━━━━━━━━━━━━━━━━━━━━━━━━━━━━━\u001b[0m \u001b[32m119.7/119.7 kB\u001b[0m \u001b[31m7.9 MB/s\u001b[0m eta \u001b[36m0:00:00\u001b[0m\n",
            "\u001b[2K   \u001b[90m━━━━━━━━━━━━━━━━━━━━━━━━━━━━━━━━━━━━━━━━\u001b[0m \u001b[32m73.9/73.9 kB\u001b[0m \u001b[31m3.8 MB/s\u001b[0m eta \u001b[36m0:00:00\u001b[0m\n",
            "\u001b[2K   \u001b[90m━━━━━━━━━━━━━━━━━━━━━━━━━━━━━━━━━━━━━━━━\u001b[0m \u001b[32m1.2/1.2 MB\u001b[0m \u001b[31m32.0 MB/s\u001b[0m eta \u001b[36m0:00:00\u001b[0m\n",
            "\u001b[2K   \u001b[90m━━━━━━━━━━━━━━━━━━━━━━━━━━━━━━━━━━━━━━━━\u001b[0m \u001b[32m86.0/86.0 kB\u001b[0m \u001b[31m4.5 MB/s\u001b[0m eta \u001b[36m0:00:00\u001b[0m\n",
            "\u001b[2K   \u001b[90m━━━━━━━━━━━━━━━━━━━━━━━━━━━━━━━━━━━━━━━━\u001b[0m \u001b[32m50.9/50.9 kB\u001b[0m \u001b[31m3.5 MB/s\u001b[0m eta \u001b[36m0:00:00\u001b[0m\n",
            "\u001b[2K   \u001b[90m━━━━━━━━━━━━━━━━━━━━━━━━━━━━━━━━━━━━━━━━\u001b[0m \u001b[32m375.5/375.5 kB\u001b[0m \u001b[31m21.7 MB/s\u001b[0m eta \u001b[36m0:00:00\u001b[0m\n",
            "\u001b[2K   \u001b[90m━━━━━━━━━━━━━━━━━━━━━━━━━━━━━━━━━━━━━━━━\u001b[0m \u001b[32m86.9/86.9 kB\u001b[0m \u001b[31m5.1 MB/s\u001b[0m eta \u001b[36m0:00:00\u001b[0m\n",
            "\u001b[2K   \u001b[90m━━━━━━━━━━━━━━━━━━━━━━━━━━━━━━━━━━━━━━━━\u001b[0m \u001b[32m718.4/718.4 kB\u001b[0m \u001b[31m31.2 MB/s\u001b[0m eta \u001b[36m0:00:00\u001b[0m\n",
            "\u001b[2K   \u001b[90m━━━━━━━━━━━━━━━━━━━━━━━━━━━━━━━━━━━━━━━━\u001b[0m \u001b[32m45.5/45.5 kB\u001b[0m \u001b[31m3.2 MB/s\u001b[0m eta \u001b[36m0:00:00\u001b[0m\n",
            "\u001b[2K   \u001b[90m━━━━━━━━━━━━━━━━━━━━━━━━━━━━━━━━━━━━━━━━\u001b[0m \u001b[32m203.4/203.4 kB\u001b[0m \u001b[31m15.6 MB/s\u001b[0m eta \u001b[36m0:00:00\u001b[0m\n",
            "\u001b[2K   \u001b[90m━━━━━━━━━━━━━━━━━━━━━━━━━━━━━━━━━━━━━━━━\u001b[0m \u001b[32m753.1/753.1 kB\u001b[0m \u001b[31m30.3 MB/s\u001b[0m eta \u001b[36m0:00:00\u001b[0m\n",
            "\u001b[2K   \u001b[90m━━━━━━━━━━━━━━━━━━━━━━━━━━━━━━━━━━━━━━━━\u001b[0m \u001b[32m139.3/139.3 kB\u001b[0m \u001b[31m12.1 MB/s\u001b[0m eta \u001b[36m0:00:00\u001b[0m\n",
            "\u001b[2K   \u001b[90m━━━━━━━━━━━━━━━━━━━━━━━━━━━━━━━━━━━━━━━━\u001b[0m \u001b[32m14.1/14.1 MB\u001b[0m \u001b[31m111.3 MB/s\u001b[0m eta \u001b[36m0:00:00\u001b[0m\n",
            "\u001b[2K   \u001b[90m━━━━━━━━━━━━━━━━━━━━━━━━━━━━━━━━━━━━━━━━\u001b[0m \u001b[32m85.7/85.7 kB\u001b[0m \u001b[31m7.3 MB/s\u001b[0m eta \u001b[36m0:00:00\u001b[0m\n",
            "\u001b[?25h\u001b[31mERROR: pip's dependency resolver does not currently take into account all the packages that are installed. This behaviour is the source of the following dependency conflicts.\n",
            "umap-learn 0.5.9.post2 requires scikit-learn>=1.6, but you have scikit-learn 1.5.2 which is incompatible.\u001b[0m\u001b[31m\n",
            "\u001b[0m"
          ]
        }
      ]
    },
    {
      "cell_type": "code",
      "source": [
        "import pathlib\n",
        "pathlib.Path(BASE).mkdir(parents=True, exist_ok=True)\n",
        "os.chdir(BASE)\n",
        "!pwd"
      ],
      "metadata": {
        "colab": {
          "base_uri": "https://localhost:8080/"
        },
        "id": "MXSBx8_jF5go",
        "outputId": "026c738c-f658-425e-d437-5ff519468c47"
      },
      "execution_count": null,
      "outputs": [
        {
          "output_type": "stream",
          "name": "stdout",
          "text": [
            "/content/drive/MyDrive/OperacionesML/Fase1\n"
          ]
        }
      ]
    },
    {
      "cell_type": "code",
      "source": [
        "%%bash\n",
        "dvc remote add -d gdrive gdrive://1E494khYq8ookdJWNncl7o2j6vHrlDHvg\n",
        "git add .dvc/config\n",
        "git commit -m \"add dvc remote gdrive\""
      ],
      "metadata": {
        "id": "zZIpsGSjGQLK"
      },
      "execution_count": null,
      "outputs": []
    },
    {
      "cell_type": "code",
      "source": [
        "%%bash\n",
        "cat > params.yaml << 'EOF'\n",
        "data:\n",
        "  raw_path: data/raw/german_credit_modified.csv\n",
        "  clean_path: data/interim/analysis_ready.csv\n",
        "  processed_path: data/processed/train.csv\n",
        "model:\n",
        "  type: \"RandomForestClassifier\"   # tipo de modelo\n",
        "  test_size: 0.2\n",
        "  random_state: 42\n",
        "  n_estimators: 300\n",
        "  max_depth: null\n",
        "  n_jobs: -1\n",
        "  class_weight: \"balanced\"         # útil si hay desbalance\n",
        "target: \"target_bad\"               # <- tu variable objetivo\n",
        "features: []                       # si vacío, usa todas menos target\n",
        "experiment_name: \"fase1-colab-mlflow\"\n",
        "EOF"
      ],
      "metadata": {
        "id": "f6_qvU19HaIv"
      },
      "execution_count": null,
      "outputs": []
    },
    {
      "cell_type": "code",
      "source": [
        "%%bash\n",
        "mkdir -p src notebooks models"
      ],
      "metadata": {
        "id": "vFQ9ilJPGRml"
      },
      "execution_count": null,
      "outputs": []
    },
    {
      "cell_type": "code",
      "source": [
        "%%bash\n",
        "cat > src/utils.py << 'PY'\n",
        "import yaml\n",
        "from pathlib import Path\n",
        "\n",
        "def load_params(path: str = \"params.yaml\"):\n",
        "    \"\"\"Lee los parámetros globales del proyecto.\"\"\"\n",
        "    with open(path, \"r\", encoding=\"utf-8\") as f:\n",
        "        return yaml.safe_load(f)\n",
        "\n",
        "def ensure_parent(p: str):\n",
        "    \"\"\"Crea carpetas padre si no existen.\"\"\"\n",
        "    Path(p).parent.mkdir(parents=True, exist_ok=True)\n",
        "PY"
      ],
      "metadata": {
        "id": "s1p7Gm9TGVyu"
      },
      "execution_count": null,
      "outputs": []
    },
    {
      "cell_type": "code",
      "source": [
        "%%bash\n",
        "cat > src/preprocessing.py << 'PY'\n",
        "import pandas as pd\n",
        "from utils import load_params, ensure_parent\n",
        "\n",
        "def make_trainset():\n",
        "    \"\"\"Toma el dataset limpio, aplica transformaciones y genera el dataset procesado.\"\"\"\n",
        "    P = load_params()\n",
        "    clean_path = P[\"data\"][\"clean_path\"]\n",
        "    out_path = P[\"data\"][\"processed_path\"]\n",
        "    target = P[\"target\"]\n",
        "    feats = P.get(\"features\") or []\n",
        "\n",
        "    # Cargar dataset limpio (ya depurado en tu EDA)\n",
        "    df = pd.read_csv(clean_path)\n",
        "\n",
        "    # Si no hay lista de features, usar todas menos la variable objetivo\n",
        "    if not feats:\n",
        "        feats = [c for c in df.columns if c != target]\n",
        "\n",
        "    # Aquí podrías agregar transformaciones extra si lo necesitas\n",
        "    # Ejemplo: encoding, normalización, etc.\n",
        "    # df = pd.get_dummies(df, drop_first=True)\n",
        "\n",
        "    # Guardar dataset final procesado\n",
        "    ensure_parent(out_path)\n",
        "    df[feats + [target]].to_csv(out_path, index=False)\n",
        "    print(f\"✅ Dataset procesado guardado en: {out_path}\")\n",
        "\n",
        "if __name__ == \"__main__\":\n",
        "    make_trainset()\n",
        "PY"
      ],
      "metadata": {
        "id": "y2ftQGXiGasT"
      },
      "execution_count": null,
      "outputs": []
    },
    {
      "cell_type": "code",
      "source": [
        "!python src/preprocessing.py"
      ],
      "metadata": {
        "colab": {
          "base_uri": "https://localhost:8080/"
        },
        "id": "Il1EOFOwGbu8",
        "outputId": "b95e90fc-9138-4f35-ea00-ab2cc99acb0c"
      },
      "execution_count": null,
      "outputs": [
        {
          "output_type": "stream",
          "name": "stdout",
          "text": [
            "✅ Dataset procesado guardado en: data/processed/train.csv\n"
          ]
        }
      ]
    },
    {
      "cell_type": "code",
      "source": [
        "%%bash\n",
        "git add data/raw/german_credit_modified.csv data/interim/german_credit_clean.csv src params.yaml\n",
        "git commit -m \"add initial data and preprocessing pipeline\""
      ],
      "metadata": {
        "colab": {
          "base_uri": "https://localhost:8080/"
        },
        "id": "yecmP2tHGgZ9",
        "outputId": "39e12c38-2f77-4802-9fc2-04a3c07779e2"
      },
      "execution_count": null,
      "outputs": [
        {
          "output_type": "stream",
          "name": "stdout",
          "text": [
            "[master f1f66c5] add initial data and preprocessing pipeline\n",
            " 2 files changed, 1 insertion(+), 1 deletion(-)\n"
          ]
        }
      ]
    },
    {
      "cell_type": "markdown",
      "source": [
        "## Baseline: Regresión Logística (class_weight balanced)\n",
        "\n",
        "Este código entrena un modelo base de Regresión Logística, lo evalúa a fondo y guarda los resultados."
      ],
      "metadata": {
        "id": "trGT8m5nOhrb"
      }
    },
    {
      "cell_type": "code",
      "source": [
        "logit = LogisticRegression(max_iter=200, class_weight=\"balanced\", random_state=RANDOM_STATE)\n",
        "logit.fit(X_train, y_train)\n",
        "\n",
        "proba = logit.predict_proba(X_test)[:,1]\n",
        "pred  = (proba >= 0.5).astype(int)\n",
        "\n",
        "metrics = {\n",
        "    \"roc_auc\": float(roc_auc_score(y_test, proba)),\n",
        "    \"pr_auc\": float(average_precision_score(y_test, proba)),\n",
        "}\n",
        "print(\"Baseline (LogReg) ROC-AUC:\", metrics[\"roc_auc\"])\n",
        "print(\"Baseline (LogReg) PR-AUC :\", metrics[\"pr_auc\"])\n",
        "\n",
        "print(\"\\nClassification report:\")\n",
        "print(classification_report(y_test, pred, digits=3))\n",
        "\n",
        "cm = confusion_matrix(y_test, pred)\n",
        "print(\"Confusion matrix:\\n\", cm)\n",
        "\n",
        "# Curvas y figuras\n",
        "prec, rec, thr = precision_recall_curve(y_test, proba)\n",
        "plt.plot(rec, prec); plt.xlabel(\"Recall\"); plt.ylabel(\"Precision\"); plt.title(\"Precision-Recall\")\n",
        "plt.savefig(RUN_DIR / \"pr_curve_logit.png\", bbox_inches=\"tight\"); plt.show()\n",
        "\n",
        "fpr, tpr, _ = roc_curve(y_test, proba)\n",
        "plt.plot(fpr, tpr); plt.xlabel(\"FPR\"); plt.ylabel(\"TPR\"); plt.title(\"ROC Curve\")\n",
        "plt.savefig(RUN_DIR / \"roc_curve_logit.png\", bbox_inches=\"tight\"); plt.show()\n",
        "\n",
        "# Guardar métricas y modelo\n",
        "json.dump(metrics, open(RUN_DIR / \"metrics_logit.json\",\"w\"), indent=2)\n",
        "joblib.dump(logit, RUN_DIR / \"model_logit.joblib\")\n",
        "print(\"Guardado modelo y métricas en\", RUN_DIR)\n"
      ],
      "metadata": {
        "colab": {
          "base_uri": "https://localhost:8080/",
          "height": 1000
        },
        "id": "la5by_fxOkAb",
        "outputId": "cba34b29-fe6e-483b-efce-6a47e984cd9b"
      },
      "execution_count": null,
      "outputs": [
        {
          "output_type": "stream",
          "name": "stdout",
          "text": [
            "Baseline (LogReg) ROC-AUC: 0.8625776397515528\n",
            "Baseline (LogReg) PR-AUC : 0.7284255931959087\n",
            "\n",
            "Classification report:\n",
            "              precision    recall  f1-score   support\n",
            "\n",
            "           0      0.910     0.752     0.823       161\n",
            "           1      0.565     0.812     0.667        64\n",
            "\n",
            "    accuracy                          0.769       225\n",
            "   macro avg      0.737     0.782     0.745       225\n",
            "weighted avg      0.812     0.769     0.779       225\n",
            "\n",
            "Confusion matrix:\n",
            " [[121  40]\n",
            " [ 12  52]]\n"
          ]
        },
        {
          "output_type": "display_data",
          "data": {
            "text/plain": [
              "<Figure size 640x480 with 1 Axes>"
            ],
            "image/png": "[encoded data removed]"
          },
          "metadata": {}
        },
        {
          "output_type": "display_data",
          "data": {
            "text/plain": [
              "<Figure size 640x480 with 1 Axes>"
            ],
            "image/png": "[encoded data removed]"
          },
          "metadata": {}
        },
        {
          "output_type": "stream",
          "name": "stdout",
          "text": [
            "Guardado modelo y métricas en /content/drive/MyDrive/OperacionesML/Fase1/artifacts/run_20251012_202156\n"
          ]
        }
      ]
    },
    {
      "cell_type": "markdown",
      "source": [
        "\n",
        "*   Curva Precision-Recall\n",
        "\n",
        "Esta curva muestra el compromiso (trade-off) del mundo real.\n",
        "\n",
        "A la izquierda (bajo Recall), la precisión es alta. Esto significa que cuando el modelo está muy seguro de que alguien es un mal pagador, casi siempre acierta. Sin embargo, en este punto solo está identificando a unos pocos de todos los malos pagadores que existen.\n",
        "*   Curva ROC\n",
        "\n",
        "El modelo tiene una excelente capacidad para discriminar entre un cliente bueno y uno malo.\n",
        "\n",
        "\n",
        "\n",
        "\n",
        "\n",
        "\n"
      ],
      "metadata": {
        "id": "nN1Ka9c0QPYh"
      }
    },
    {
      "cell_type": "markdown",
      "source": [
        "## Modelo 2: Random Forest + GridSearchCV (ajuste de hiperparámetros)"
      ],
      "metadata": {
        "id": "KZt45e_zO7bg"
      }
    },
    {
      "cell_type": "code",
      "source": [
        "rf = RandomForestClassifier(random_state=RANDOM_STATE, n_jobs=-1, class_weight=\"balanced\")\n",
        "param_grid = {\n",
        "    \"n_estimators\": [200, 400],\n",
        "    \"max_depth\": [None, 8, 12],\n",
        "    \"min_samples_split\": [2, 5],\n",
        "    \"min_samples_leaf\": [1, 2]\n",
        "}\n",
        "cv = StratifiedKFold(n_splits=5, shuffle=True, random_state=RANDOM_STATE)\n",
        "g = GridSearchCV(rf, param_grid, scoring=\"average_precision\", cv=cv, n_jobs=-1, verbose=1)\n",
        "g.fit(X_train, y_train)\n",
        "\n",
        "best_rf = g.best_estimator_\n",
        "print(\"Mejores params RF:\", g.best_params_)\n",
        "print(\"Mejor score CV (PR-AUC):\", g.best_score_)\n",
        "\n",
        "proba_rf = best_rf.predict_proba(X_test)[:,1]\n",
        "pred_rf  = (proba_rf >= 0.5).astype(int)\n",
        "\n",
        "metrics_rf = {\n",
        "    \"roc_auc\": float(roc_auc_score(y_test, proba_rf)),\n",
        "    \"pr_auc\": float(average_precision_score(y_test, proba_rf)),\n",
        "}\n",
        "print(\"RF ROC-AUC:\", metrics_rf[\"roc_auc\"])\n",
        "print(\"RF PR-AUC :\", metrics_rf[\"pr_auc\"])\n",
        "print(\"\\nClassification report (RF):\")\n",
        "print(classification_report(y_test, pred_rf, digits=3))\n",
        "\n",
        "cm_rf = confusion_matrix(y_test, pred_rf)\n",
        "print(\"Confusion matrix (RF):\\n\", cm_rf)\n",
        "\n",
        "# Figuras\n",
        "prec, rec, thr = precision_recall_curve(y_test, proba_rf)\n",
        "plt.plot(rec, prec); plt.xlabel(\"Recall\"); plt.ylabel(\"Precision\"); plt.title(\"Precision-Recall (RF)\")\n",
        "plt.savefig(RUN_DIR / \"pr_curve_rf.png\", bbox_inches=\"tight\"); plt.show()\n",
        "\n",
        "fpr, tpr, _ = roc_curve(y_test, proba_rf)\n",
        "plt.plot(fpr, tpr); plt.xlabel(\"FPR\"); plt.ylabel(\"TPR\"); plt.title(\"ROC Curve (RF)\")\n",
        "plt.savefig(RUN_DIR / \"roc_curve_rf.png\", bbox_inches=\"tight\"); plt.show()\n",
        "\n",
        "# Guardado\n",
        "json.dump({\"best_params\": g.best_params_, \"cv_best_pr_auc\": g.best_score_},\n",
        "          open(RUN_DIR / \"rf_tuning_summary.json\",\"w\"), indent=2)\n",
        "json.dump(metrics_rf, open(RUN_DIR / \"metrics_rf.json\",\"w\"), indent=2)\n",
        "joblib.dump(best_rf, RUN_DIR / \"model_rf.joblib\")\n",
        "print(\"Guardado RF y métricas en\", RUN_DIR)\n"
      ],
      "metadata": {
        "colab": {
          "base_uri": "https://localhost:8080/",
          "height": 1000
        },
        "id": "Vf7ECzsFO94R",
        "outputId": "f3a603a6-cd71-436e-f0d5-27341d4d3056"
      },
      "execution_count": null,
      "outputs": [
        {
          "output_type": "stream",
          "name": "stdout",
          "text": [
            "Fitting 5 folds for each of 24 candidates, totalling 120 fits\n",
            "Mejores params RF: {'max_depth': 8, 'min_samples_leaf': 1, 'min_samples_split': 5, 'n_estimators': 200}\n",
            "Mejor score CV (PR-AUC): 0.6299448723592913\n",
            "RF ROC-AUC: 0.8497670807453417\n",
            "RF PR-AUC : 0.7000063752344102\n",
            "\n",
            "Classification report (RF):\n",
            "              precision    recall  f1-score   support\n",
            "\n",
            "           0      0.855     0.845     0.850       161\n",
            "           1      0.621     0.641     0.631        64\n",
            "\n",
            "    accuracy                          0.787       225\n",
            "   macro avg      0.738     0.743     0.740       225\n",
            "weighted avg      0.789     0.787     0.788       225\n",
            "\n",
            "Confusion matrix (RF):\n",
            " [[136  25]\n",
            " [ 23  41]]\n"
          ]
        },
        {
          "output_type": "display_data",
          "data": {
            "text/plain": [
              "<Figure size 640x480 with 1 Axes>"
            ],
            "image/png": "[encoded data removed]"
          },
          "metadata": {}
        },
        {
          "output_type": "display_data",
          "data": {
            "text/plain": [
              "<Figure size 640x480 with 1 Axes>"
            ],
            "image/png": "[encoded data removed]"
          },
          "metadata": {}
        },
        {
          "output_type": "stream",
          "name": "stdout",
          "text": [
            "Guardado RF y métricas en /content/drive/MyDrive/OperacionesML/Fase1/artifacts/run_20251012_202156\n"
          ]
        }
      ]
    },
    {
      "cell_type": "markdown",
      "source": [
        "Observa cómo la curva empieza en Precision = 1.0 y se mantiene ahí por un tramo. Esto es muy valioso y significa que el modelo es capaz de identificar un grupo de solicitantes (aproximadamente el 10% de los malos pagadores) con una precisión prácticamente perfecta."
      ],
      "metadata": {
        "id": "s_19onaqUrw5"
      }
    },
    {
      "cell_type": "markdown",
      "source": [
        "## Comparación de modelos"
      ],
      "metadata": {
        "id": "odg7jvnRUzhg"
      }
    },
    {
      "cell_type": "code",
      "source": [
        "m_log = json.load(open(RUN_DIR / \"metrics_logit.json\"))\n",
        "m_rf  = json.load(open(RUN_DIR / \"metrics_rf.json\"))\n",
        "\n",
        "comp = pd.DataFrame([\n",
        "    {\"modelo\":\"LogReg\", \"roc_auc\":m_log[\"roc_auc\"], \"pr_auc\":m_log[\"pr_auc\"]},\n",
        "    {\"modelo\":\"RandomForest\", \"roc_auc\":m_rf[\"roc_auc\"], \"pr_auc\":m_rf[\"pr_auc\"]},\n",
        "]).sort_values(\"pr_auc\", ascending=False)\n",
        "display(comp)\n",
        "\n",
        "comp.to_csv(RUN_DIR / \"models_comparison.csv\", index=False)\n",
        "\n",
        "# Model card mínima\n",
        "card = f\"\"\"\n",
        "# Model Card — German Credit (run {RUN_ID})\n",
        "\n",
        "## Datos\n",
        "- Fuente: german_credit_clean.csv\n",
        "- Tamaño: {df.shape}\n",
        "- Target: target_bad (1=riesgo alto)\n",
        "\n",
        "## Preprocesamiento\n",
        "- Imputación simple (mediana/mode).\n",
        "- Escalado: StandardScaler en continuas (alter, laufzeit, hoehe).\n",
        "- Split: 75/25 estratificado, random_state={RANDOM_STATE}.\n",
        "\n",
        "## Modelos\n",
        "- Baseline: LogisticRegression(class_weight='balanced').\n",
        "- Tuning: RandomForest (GridSearchCV, PR-AUC).\n",
        "\n",
        "## Métricas (test)\n",
        "- LogReg PR-AUC={m_log['pr_auc']:.3f}, ROC-AUC={m_log['roc_auc']:.3f}\n",
        "- RF     PR-AUC={m_rf['pr_auc']:.3f}, ROC-AUC={m_rf['roc_auc']:.3f}\n",
        "\n",
        "## Versionado\n",
        "- Dataset listo: processed/analysis_ready.csv\n",
        "- Artefactos del run: artifacts/run_{RUN_ID}/\n",
        "\"\"\"\n",
        "(Path(RUN_DIR) / \"MODEL_CARD.md\").write_text(textwrap.dedent(card), encoding=\"utf-8\")\n",
        "print(\"Guardado MODEL_CARD.md en\", RUN_DIR)\n"
      ],
      "metadata": {
        "colab": {
          "base_uri": "https://localhost:8080/",
          "height": 142
        },
        "id": "vjjwssmfUuNg",
        "outputId": "e4a84165-e438-4893-d3fa-ae95fa92ada8"
      },
      "execution_count": null,
      "outputs": [
        {
          "output_type": "display_data",
          "data": {
            "text/plain": [
              "         modelo   roc_auc    pr_auc\n",
              "0        LogReg  0.862578  0.728426\n",
              "1  RandomForest  0.849767  0.700006"
            ],
            "text/html": [
              "\n",
              "  <div id=\"df-83724bf9-d0e0-4133-a4c8-fcbf5b96a6aa\" class=\"colab-df-container\">\n",
              "    <div>\n",
              "<style scoped>\n",
              "    .dataframe tbody tr th:only-of-type {\n",
              "        vertical-align: middle;\n",
              "    }\n",
              "\n",
              "    .dataframe tbody tr th {\n",
              "        vertical-align: top;\n",
              "    }\n",
              "\n",
              "    .dataframe thead th {\n",
              "        text-align: right;\n",
              "    }\n",
              "</style>\n",
              "<table border=\"1\" class=\"dataframe\">\n",
              "  <thead>\n",
              "    <tr style=\"text-align: right;\">\n",
              "      <th></th>\n",
              "      <th>modelo</th>\n",
              "      <th>roc_auc</th>\n",
              "      <th>pr_auc</th>\n",
              "    </tr>\n",
              "  </thead>\n",
              "  <tbody>\n",
              "    <tr>\n",
              "      <th>0</th>\n",
              "      <td>LogReg</td>\n",
              "      <td>0.862578</td>\n",
              "      <td>0.728426</td>\n",
              "    </tr>\n",
              "    <tr>\n",
              "      <th>1</th>\n",
              "      <td>RandomForest</td>\n",
              "      <td>0.849767</td>\n",
              "      <td>0.700006</td>\n",
              "    </tr>\n",
              "  </tbody>\n",
              "</table>\n",
              "</div>\n",
              "    <div class=\"colab-df-buttons\">\n",
              "\n",
              "  <div class=\"colab-df-container\">\n",
              "    <button class=\"colab-df-convert\" onclick=\"convertToInteractive('df-83724bf9-d0e0-4133-a4c8-fcbf5b96a6aa')\"\n",
              "            title=\"Convert this dataframe to an interactive table.\"\n",
              "            style=\"display:none;\">\n",
              "\n",
              "  <svg xmlns=\"http://www.w3.org/2000/svg\" height=\"24px\" viewBox=\"0 -960 960 960\">\n",
              "    <path d=\"M120-120v-720h720v720H120Zm60-500h600v-160H180v160Zm220 220h160v-160H400v160Zm0 220h160v-160H400v160ZM180-400h160v-160H180v160Zm440 0h160v-160H620v160ZM180-180h160v-160H180v160Zm440 0h160v-160H620v160Z\"/>\n",
              "  </svg>\n",
              "    </button>\n",
              "\n",
              "  <style>\n",
              "    .colab-df-container {\n",
              "      display:flex;\n",
              "      gap: 12px;\n",
              "    }\n",
              "\n",
              "    .colab-df-convert {\n",
              "      background-color: #E8F0FE;\n",
              "      border: none;\n",
              "      border-radius: 50%;\n",
              "      cursor: pointer;\n",
              "      display: none;\n",
              "      fill: #1967D2;\n",
              "      height: 32px;\n",
              "      padding: 0 0 0 0;\n",
              "      width: 32px;\n",
              "    }\n",
              "\n",
              "    .colab-df-convert:hover {\n",
              "      background-color: #E2EBFA;\n",
              "      box-shadow: 0px 1px 2px rgba(60, 64, 67, 0.3), 0px 1px 3px 1px rgba(60, 64, 67, 0.15);\n",
              "      fill: #174EA6;\n",
              "    }\n",
              "\n",
              "    .colab-df-buttons div {\n",
              "      margin-bottom: 4px;\n",
              "    }\n",
              "\n",
              "    [theme=dark] .colab-df-convert {\n",
              "      background-color: #3B4455;\n",
              "      fill: #D2E3FC;\n",
              "    }\n",
              "\n",
              "    [theme=dark] .colab-df-convert:hover {\n",
              "      background-color: #434B5C;\n",
              "      box-shadow: 0px 1px 3px 1px rgba(0, 0, 0, 0.15);\n",
              "      filter: drop-shadow(0px 1px 2px rgba(0, 0, 0, 0.3));\n",
              "      fill: #FFFFFF;\n",
              "    }\n",
              "  </style>\n",
              "\n",
              "    <script>\n",
              "      const buttonEl =\n",
              "        document.querySelector('#df-83724bf9-d0e0-4133-a4c8-fcbf5b96a6aa button.colab-df-convert');\n",
              "      buttonEl.style.display =\n",
              "        google.colab.kernel.accessAllowed ? 'block' : 'none';\n",
              "\n",
              "      async function convertToInteractive(key) {\n",
              "        const element = document.querySelector('#df-83724bf9-d0e0-4133-a4c8-fcbf5b96a6aa');\n",
              "        const dataTable =\n",
              "          await google.colab.kernel.invokeFunction('convertToInteractive',\n",
              "                                                    [key], {});\n",
              "        if (!dataTable) return;\n",
              "\n",
              "        const docLinkHtml = 'Like what you see? Visit the ' +\n",
              "          '<a target=\"_blank\" href=https://colab.research.google.com/notebooks/data_table.ipynb>data table notebook</a>'\n",
              "          + ' to learn more about interactive tables.';\n",
              "        element.innerHTML = '';\n",
              "        dataTable['output_type'] = 'display_data';\n",
              "        await google.colab.output.renderOutput(dataTable, element);\n",
              "        const docLink = document.createElement('div');\n",
              "        docLink.innerHTML = docLinkHtml;\n",
              "        element.appendChild(docLink);\n",
              "      }\n",
              "    </script>\n",
              "  </div>\n",
              "\n",
              "\n",
              "    <div id=\"df-9f32ac0b-b9c5-4e88-8f57-e132ba5b8f02\">\n",
              "      <button class=\"colab-df-quickchart\" onclick=\"quickchart('df-9f32ac0b-b9c5-4e88-8f57-e132ba5b8f02')\"\n",
              "                title=\"Suggest charts\"\n",
              "                style=\"display:none;\">\n",
              "\n",
              "<svg xmlns=\"http://www.w3.org/2000/svg\" height=\"24px\"viewBox=\"0 0 24 24\"\n",
              "     width=\"24px\">\n",
              "    <g>\n",
              "        <path d=\"M19 3H5c-1.1 0-2 .9-2 2v14c0 1.1.9 2 2 2h14c1.1 0 2-.9 2-2V5c0-1.1-.9-2-2-2zM9 17H7v-7h2v7zm4 0h-2V7h2v10zm4 0h-2v-4h2v4z\"/>\n",
              "    </g>\n",
              "</svg>\n",
              "      </button>\n",
              "\n",
              "<style>\n",
              "  .colab-df-quickchart {\n",
              "      --bg-color: #E8F0FE;\n",
              "      --fill-color: #1967D2;\n",
              "      --hover-bg-color: #E2EBFA;\n",
              "      --hover-fill-color: #174EA6;\n",
              "      --disabled-fill-color: #AAA;\n",
              "      --disabled-bg-color: #DDD;\n",
              "  }\n",
              "\n",
              "  [theme=dark] .colab-df-quickchart {\n",
              "      --bg-color: #3B4455;\n",
              "      --fill-color: #D2E3FC;\n",
              "      --hover-bg-color: #434B5C;\n",
              "      --hover-fill-color: #FFFFFF;\n",
              "      --disabled-bg-color: #3B4455;\n",
              "      --disabled-fill-color: #666;\n",
              "  }\n",
              "\n",
              "  .colab-df-quickchart {\n",
              "    background-color: var(--bg-color);\n",
              "    border: none;\n",
              "    border-radius: 50%;\n",
              "    cursor: pointer;\n",
              "    display: none;\n",
              "    fill: var(--fill-color);\n",
              "    height: 32px;\n",
              "    padding: 0;\n",
              "    width: 32px;\n",
              "  }\n",
              "\n",
              "  .colab-df-quickchart:hover {\n",
              "    background-color: var(--hover-bg-color);\n",
              "    box-shadow: 0 1px 2px rgba(60, 64, 67, 0.3), 0 1px 3px 1px rgba(60, 64, 67, 0.15);\n",
              "    fill: var(--button-hover-fill-color);\n",
              "  }\n",
              "\n",
              "  .colab-df-quickchart-complete:disabled,\n",
              "  .colab-df-quickchart-complete:disabled:hover {\n",
              "    background-color: var(--disabled-bg-color);\n",
              "    fill: var(--disabled-fill-color);\n",
              "    box-shadow: none;\n",
              "  }\n",
              "\n",
              "  .colab-df-spinner {\n",
              "    border: 2px solid var(--fill-color);\n",
              "    border-color: transparent;\n",
              "    border-bottom-color: var(--fill-color);\n",
              "    animation:\n",
              "      spin 1s steps(1) infinite;\n",
              "  }\n",
              "\n",
              "  @keyframes spin {\n",
              "    0% {\n",
              "      border-color: transparent;\n",
              "      border-bottom-color: var(--fill-color);\n",
              "      border-left-color: var(--fill-color);\n",
              "    }\n",
              "    20% {\n",
              "      border-color: transparent;\n",
              "      border-left-color: var(--fill-color);\n",
              "      border-top-color: var(--fill-color);\n",
              "    }\n",
              "    30% {\n",
              "      border-color: transparent;\n",
              "      border-left-color: var(--fill-color);\n",
              "      border-top-color: var(--fill-color);\n",
              "      border-right-color: var(--fill-color);\n",
              "    }\n",
              "    40% {\n",
              "      border-color: transparent;\n",
              "      border-right-color: var(--fill-color);\n",
              "      border-top-color: var(--fill-color);\n",
              "    }\n",
              "    60% {\n",
              "      border-color: transparent;\n",
              "      border-right-color: var(--fill-color);\n",
              "    }\n",
              "    80% {\n",
              "      border-color: transparent;\n",
              "      border-right-color: var(--fill-color);\n",
              "      border-bottom-color: var(--fill-color);\n",
              "    }\n",
              "    90% {\n",
              "      border-color: transparent;\n",
              "      border-bottom-color: var(--fill-color);\n",
              "    }\n",
              "  }\n",
              "</style>\n",
              "\n",
              "      <script>\n",
              "        async function quickchart(key) {\n",
              "          const quickchartButtonEl =\n",
              "            document.querySelector('#' + key + ' button');\n",
              "          quickchartButtonEl.disabled = true;  // To prevent multiple clicks.\n",
              "          quickchartButtonEl.classList.add('colab-df-spinner');\n",
              "          try {\n",
              "            const charts = await google.colab.kernel.invokeFunction(\n",
              "                'suggestCharts', [key], {});\n",
              "          } catch (error) {\n",
              "            console.error('Error during call to suggestCharts:', error);\n",
              "          }\n",
              "          quickchartButtonEl.classList.remove('colab-df-spinner');\n",
              "          quickchartButtonEl.classList.add('colab-df-quickchart-complete');\n",
              "        }\n",
              "        (() => {\n",
              "          let quickchartButtonEl =\n",
              "            document.querySelector('#df-9f32ac0b-b9c5-4e88-8f57-e132ba5b8f02 button');\n",
              "          quickchartButtonEl.style.display =\n",
              "            google.colab.kernel.accessAllowed ? 'block' : 'none';\n",
              "        })();\n",
              "      </script>\n",
              "    </div>\n",
              "\n",
              "  <div id=\"id_5aa0a686-529a-4ece-a10b-256170b76ca2\">\n",
              "    <style>\n",
              "      .colab-df-generate {\n",
              "        background-color: #E8F0FE;\n",
              "        border: none;\n",
              "        border-radius: 50%;\n",
              "        cursor: pointer;\n",
              "        display: none;\n",
              "        fill: #1967D2;\n",
              "        height: 32px;\n",
              "        padding: 0 0 0 0;\n",
              "        width: 32px;\n",
              "      }\n",
              "\n",
              "      .colab-df-generate:hover {\n",
              "        background-color: #E2EBFA;\n",
              "        box-shadow: 0px 1px 2px rgba(60, 64, 67, 0.3), 0px 1px 3px 1px rgba(60, 64, 67, 0.15);\n",
              "        fill: #174EA6;\n",
              "      }\n",
              "\n",
              "      [theme=dark] .colab-df-generate {\n",
              "        background-color: #3B4455;\n",
              "        fill: #D2E3FC;\n",
              "      }\n",
              "\n",
              "      [theme=dark] .colab-df-generate:hover {\n",
              "        background-color: #434B5C;\n",
              "        box-shadow: 0px 1px 3px 1px rgba(0, 0, 0, 0.15);\n",
              "        filter: drop-shadow(0px 1px 2px rgba(0, 0, 0, 0.3));\n",
              "        fill: #FFFFFF;\n",
              "      }\n",
              "    </style>\n",
              "    <button class=\"colab-df-generate\" onclick=\"generateWithVariable('comp')\"\n",
              "            title=\"Generate code using this dataframe.\"\n",
              "            style=\"display:none;\">\n",
              "\n",
              "  <svg xmlns=\"http://www.w3.org/2000/svg\" height=\"24px\"viewBox=\"0 0 24 24\"\n",
              "       width=\"24px\">\n",
              "    <path d=\"M7,19H8.4L18.45,9,17,7.55,7,17.6ZM5,21V16.75L18.45,3.32a2,2,0,0,1,2.83,0l1.4,1.43a1.91,1.91,0,0,1,.58,1.4,1.91,1.91,0,0,1-.58,1.4L9.25,21ZM18.45,9,17,7.55Zm-12,3A5.31,5.31,0,0,0,4.9,8.1,5.31,5.31,0,0,0,1,6.5,5.31,5.31,0,0,0,4.9,4.9,5.31,5.31,0,0,0,6.5,1,5.31,5.31,0,0,0,8.1,4.9,5.31,5.31,0,0,0,12,6.5,5.46,5.46,0,0,0,6.5,12Z\"/>\n",
              "  </svg>\n",
              "    </button>\n",
              "    <script>\n",
              "      (() => {\n",
              "      const buttonEl =\n",
              "        document.querySelector('#id_5aa0a686-529a-4ece-a10b-256170b76ca2 button.colab-df-generate');\n",
              "      buttonEl.style.display =\n",
              "        google.colab.kernel.accessAllowed ? 'block' : 'none';\n",
              "\n",
              "      buttonEl.onclick = () => {\n",
              "        google.colab.notebook.generateWithVariable('comp');\n",
              "      }\n",
              "      })();\n",
              "    </script>\n",
              "  </div>\n",
              "\n",
              "    </div>\n",
              "  </div>\n"
            ],
            "application/vnd.google.colaboratory.intrinsic+json": {
              "type": "dataframe",
              "variable_name": "comp",
              "summary": "{\n  \"name\": \"comp\",\n  \"rows\": 2,\n  \"fields\": [\n    {\n      \"column\": \"modelo\",\n      \"properties\": {\n        \"dtype\": \"string\",\n        \"num_unique_values\": 2,\n        \"samples\": [\n          \"RandomForest\",\n          \"LogReg\"\n        ],\n        \"semantic_type\": \"\",\n        \"description\": \"\"\n      }\n    },\n    {\n      \"column\": \"roc_auc\",\n      \"properties\": {\n        \"dtype\": \"number\",\n        \"std\": 0.00905843314408226,\n        \"min\": 0.8497670807453417,\n        \"max\": 0.8625776397515528,\n        \"num_unique_values\": 2,\n        \"samples\": [\n          0.8497670807453417,\n          0.8625776397515528\n        ],\n        \"semantic_type\": \"\",\n        \"description\": \"\"\n      }\n    },\n    {\n      \"column\": \"pr_auc\",\n      \"properties\": {\n        \"dtype\": \"number\",\n        \"std\": 0.02009542173659411,\n        \"min\": 0.7000063752344102,\n        \"max\": 0.7284255931959087,\n        \"num_unique_values\": 2,\n        \"samples\": [\n          0.7000063752344102,\n          0.7284255931959087\n        ],\n        \"semantic_type\": \"\",\n        \"description\": \"\"\n      }\n    }\n  ]\n}"
            }
          },
          "metadata": {}
        },
        {
          "output_type": "stream",
          "name": "stdout",
          "text": [
            "Guardado MODEL_CARD.md en /content/drive/MyDrive/OperacionesML/Fase1/artifacts/run_20251012_202156\n"
          ]
        }
      ]
    },
    {
      "cell_type": "markdown",
      "source": [
        "### Análisis por Métrica:\n",
        "\n",
        "\n",
        "*   PR-AUC (La más importante aquí): La Regresión Logística (0.728) tiene un mejor balance general entre precisión y recall que el Random Forest (0.700).\n",
        "*   ROC-AUC: La Regresión Logística (0.863) también muestra una capacidad ligeramente superior para distinguir entre clientes buenos y malos en comparación con el Random Forest (0.850).\n",
        "\n",
        "\n",
        "\n",
        "\n",
        "\n"
      ],
      "metadata": {
        "id": "YaxMg1UtXXmG"
      }
    },
    {
      "cell_type": "markdown",
      "source": [
        "## Guardar snapshot de datos para DVC"
      ],
      "metadata": {
        "id": "BKoDR4EPX64-"
      }
    },
    {
      "cell_type": "code",
      "source": [
        "# Copiamos una versión “congelada” del dataset listo\n",
        "snap_dir = DVC_DIR / f\"snapshot_{RUN_ID}\"\n",
        "snap_dir.mkdir(parents=True, exist_ok=True)\n",
        "ready = pd.read_csv(DATA_DIR / \"analysis_ready.csv\")\n",
        "ready.to_csv(snap_dir / \"analysis_ready.csv\", index=False)\n",
        "print(\"Snapshot para DVC en:\", snap_dir)\n"
      ],
      "metadata": {
        "colab": {
          "base_uri": "https://localhost:8080/"
        },
        "id": "Af9rkweCX-Qw",
        "outputId": "aca43819-6b8b-4888-de20-1a9f7a60b9b3"
      },
      "execution_count": null,
      "outputs": [
        {
          "output_type": "stream",
          "name": "stdout",
          "text": [
            "Snapshot para DVC en: /content/drive/MyDrive/OperacionesML/Fase1/data/snapshot_20251012_202156\n"
          ]
        }
      ]
    },
    {
      "cell_type": "code",
      "source": [
        "changelog = {\n",
        "    \"run_id\": RUN_ID,\n",
        "    \"timestamp\": datetime.now().isoformat(),\n",
        "    \"data_input\": str(IN_FILE),\n",
        "    \"data_ready\": str(DATA_DIR / \"analysis_ready.csv\"),\n",
        "    \"artifacts_dir\": str(RUN_DIR),\n",
        "    \"notes\": \"EDA + preprocesamiento + baseline + RF tuning; se guardaron métricas y figuras.\",\n",
        "}\n",
        "LOG = BASE / \"CHANGELOG.jsonl\"\n",
        "with open(LOG, \"a\", encoding=\"utf-8\") as f:\n",
        "    f.write(json.dumps(changelog, ensure_ascii=False) + \"\\n\")\n",
        "print(\"Actualizado:\", LOG)\n"
      ],
      "metadata": {
        "colab": {
          "base_uri": "https://localhost:8080/"
        },
        "id": "01qYW-9SZDVa",
        "outputId": "05d89de4-6469-4d08-c1f3-075dd436407f"
      },
      "execution_count": null,
      "outputs": [
        {
          "output_type": "stream",
          "name": "stdout",
          "text": [
            "Actualizado: /content/drive/MyDrive/OperacionesML/Fase1/CHANGELOG.jsonl\n"
          ]
        }
      ]
    },
    {
      "cell_type": "code",
      "source": [
        "roles_log = \"\"\"\n",
        "# Roles e Interacciones (run {run})\n",
        "- Data Engineer: ingestión, validación de dominios/rangos, DVC, pipelines de datos.\n",
        "- Data Analyst: EDA, visualizaciones, hallazgos y reportes IQR.\n",
        "- ML Engineer: preprocesamiento (escala/OHE), training, tuning, evaluación y artefactos.\n",
        "- PM: definió criterios de éxito (PR-AUC > 0.70), priorizó interpretabilidad.\n",
        "\"\"\".format(run=RUN_ID)\n",
        "\n",
        "(Path(RUN_DIR) / \"ROLES.md\").write_text(roles_log, encoding=\"utf-8\")\n",
        "print(\"Guardado ROLES.md\")\n"
      ],
      "metadata": {
        "colab": {
          "base_uri": "https://localhost:8080/"
        },
        "id": "2UF4cHr3aTfY",
        "outputId": "a9f1a5fc-b0ec-4698-b8b1-1e29afc1c490"
      },
      "execution_count": null,
      "outputs": [
        {
          "output_type": "stream",
          "name": "stdout",
          "text": [
            "Guardado ROLES.md\n"
          ]
        }
      ]
    },
    {
      "cell_type": "markdown",
      "source": [
        "\n",
        "## Integración de MLFlow\n"
      ],
      "metadata": {
        "id": "WkvlJQgdGmJF"
      }
    },
    {
      "cell_type": "code",
      "source": [
        "%%bash\n",
        "ls -lh data/processed || true\n",
        "head -n 3 data/processed/train.csv || true"
      ],
      "metadata": {
        "colab": {
          "base_uri": "https://localhost:8080/"
        },
        "id": "A5kuc6ejGry6",
        "outputId": "445b2d02-78c2-42db-8a5e-caa4a940e469"
      },
      "execution_count": null,
      "outputs": [
        {
          "output_type": "stream",
          "name": "stdout",
          "text": [
            "total 240K\n",
            "-rw------- 1 root root 114K Oct 12 20:20 analysis_ready.csv\n",
            "-rw------- 1 root root  46K Oct  2 23:31 german_credit_original.csv\n",
            "-rw------- 1 root root  81K Oct 12 20:25 train.csv\n",
            "laufkont,laufzeit,moral,verw,hoehe,sparkont,beszeit,rate,famges,buerge,wohnzeit,verm,alter,weitkred,wohn,bishkred,beruf,pers,telef,gastarb,target_bad\n",
            "1.0,18.0,4.0,2.0,1049.0,1.0,2.0,4.0,2.0,1.0,4.0,2.0,21.0,3.0,1.0,1.0,3.0,2.0,1.0,2.0,0.0\n",
            "1.0,9.0,4.0,0.0,2799.0,1.0,3.0,2.0,3.0,1.0,2.0,1.0,36.0,3.0,1.0,2.0,3.0,1.0,1.0,2.0,0.0\n"
          ]
        }
      ]
    },
    {
      "cell_type": "code",
      "source": [
        "%%bash\n",
        "cat > src/train.py << 'PY'\n",
        "import os\n",
        "import json\n",
        "import mlflow\n",
        "import mlflow.sklearn\n",
        "import numpy as np\n",
        "import pandas as pd\n",
        "import matplotlib.pyplot as plt\n",
        "import seaborn as sns\n",
        "\n",
        "from sklearn.model_selection import train_test_split\n",
        "from sklearn.metrics import (\n",
        "    roc_auc_score, roc_curve, precision_recall_curve, average_precision_score,\n",
        "    classification_report, confusion_matrix\n",
        ")\n",
        "from sklearn.linear_model import LogisticRegression\n",
        "from sklearn.ensemble import RandomForestClassifier\n",
        "from utils import load_params\n",
        "\n",
        "def plot_curves(y_true, y_score, model_name, outdir):\n",
        "    \"\"\"Dibuja curvas ROC y PR y devuelve aucs.\"\"\"\n",
        "    fpr, tpr, _ = roc_curve(y_true, y_score)\n",
        "    precision, recall, _ = precision_recall_curve(y_true, y_score)\n",
        "    roc_auc = roc_auc_score(y_true, y_score)\n",
        "    pr_auc = average_precision_score(y_true, y_score)\n",
        "\n",
        "    plt.figure()\n",
        "    plt.plot(fpr, tpr, label=f\"ROC AUC={roc_auc:.4f}\")\n",
        "    plt.plot([0,1],[0,1],'--',color='gray')\n",
        "    plt.xlabel(\"FPR\"); plt.ylabel(\"TPR\"); plt.title(f\"ROC - {model_name}\")\n",
        "    plt.legend(); plt.tight_layout()\n",
        "    roc_path = os.path.join(outdir, f\"{model_name}_roc_curve.png\")\n",
        "    plt.savefig(roc_path); plt.close()\n",
        "\n",
        "    plt.figure()\n",
        "    plt.plot(recall, precision, label=f\"PR AUC={pr_auc:.4f}\")\n",
        "    plt.xlabel(\"Recall\"); plt.ylabel(\"Precision\"); plt.title(f\"PR Curve - {model_name}\")\n",
        "    plt.legend(); plt.tight_layout()\n",
        "    pr_path = os.path.join(outdir, f\"{model_name}_pr_curve.png\")\n",
        "    plt.savefig(pr_path); plt.close()\n",
        "\n",
        "    return roc_auc, pr_auc, roc_path, pr_path\n",
        "\n",
        "def main():\n",
        "    P = load_params()\n",
        "    data_path = P[\"data\"][\"processed_path\"]\n",
        "    target = P[\"target\"]\n",
        "    df = pd.read_csv(data_path)\n",
        "\n",
        "    X = df.drop(columns=[target])\n",
        "    y = df[target]\n",
        "\n",
        "    X_train, X_test, y_train, y_test = train_test_split(\n",
        "        X, y, test_size=0.2, random_state=42, stratify=y\n",
        "    )\n",
        "\n",
        "    mlruns_path = os.path.abspath(\"mlruns\")\n",
        "    os.environ[\"MLFLOW_TRACKING_URI\"] = f\"file:{mlruns_path}\"\n",
        "    mlflow.set_experiment(\"model_comparison\")\n",
        "\n",
        "    results = []\n",
        "\n",
        "    models = {\n",
        "        \"LogisticRegression\": LogisticRegression(max_iter=1000),\n",
        "        \"RandomForest\": RandomForestClassifier(n_estimators=300, class_weight=\"balanced\", random_state=42)\n",
        "    }\n",
        "\n",
        "    for name, model in models.items():\n",
        "        with mlflow.start_run(run_name=name):\n",
        "            mlflow.log_param(\"model_name\", name)\n",
        "            model.fit(X_train, y_train)\n",
        "            y_pred = model.predict(X_test)\n",
        "            y_prob = model.predict_proba(X_test)[:,1]\n",
        "\n",
        "            # Reporte y matriz\n",
        "            report = classification_report(y_test, y_pred, output_dict=True)\n",
        "            cm = confusion_matrix(y_test, y_pred)\n",
        "\n",
        "            # ROC/PR curves\n",
        "            os.makedirs(\"artifacts\", exist_ok=True)\n",
        "            roc_auc, pr_auc, roc_path, pr_path = plot_curves(y_test, y_prob, name, \"artifacts\")\n",
        "\n",
        "            # Guarda artefactos visuales\n",
        "            mlflow.log_artifact(roc_path)\n",
        "            mlflow.log_artifact(pr_path)\n",
        "\n",
        "            # Matriz de confusión visual\n",
        "            plt.figure(figsize=(4,3))\n",
        "            sns.heatmap(cm, annot=True, fmt=\"d\", cmap=\"Blues\")\n",
        "            plt.title(f\"Confusion Matrix - {name}\")\n",
        "            plt.xlabel(\"Predicted\"); plt.ylabel(\"True\")\n",
        "            cm_path = f\"artifacts/{name}_confusion_matrix.png\"\n",
        "            plt.tight_layout(); plt.savefig(cm_path); plt.close()\n",
        "            mlflow.log_artifact(cm_path)\n",
        "\n",
        "            # Reporte de clasificación\n",
        "            report_df = pd.DataFrame(report).transpose()\n",
        "            report_path = f\"artifacts/{name}_classification_report.csv\"\n",
        "            report_df.to_csv(report_path)\n",
        "            mlflow.log_artifact(report_path)\n",
        "\n",
        "            # Métricas\n",
        "            mlflow.log_metric(\"roc_auc\", roc_auc)\n",
        "            mlflow.log_metric(\"pr_auc\", pr_auc)\n",
        "            mlflow.log_metric(\"f1_score\", report[\"weighted avg\"][\"f1-score\"])\n",
        "            mlflow.log_metric(\"precision\", report[\"weighted avg\"][\"precision\"])\n",
        "            mlflow.log_metric(\"recall\", report[\"weighted avg\"][\"recall\"])\n",
        "\n",
        "            results.append({\n",
        "                \"Modelo\": name,\n",
        "                \"ROC_AUC\": roc_auc,\n",
        "                \"PR_AUC\": pr_auc,\n",
        "                \"F1\": report[\"weighted avg\"][\"f1-score\"]\n",
        "            })\n",
        "\n",
        "    # Comparación final\n",
        "    comp_df = pd.DataFrame(results)\n",
        "    comp_df[\"Ganador\"] = comp_df.apply(lambda x: \"🏆\" if x[\"ROC_AUC\"] == comp_df[\"ROC_AUC\"].max() else \"\", axis=1)\n",
        "    comp_path = \"artifacts/model_comparison.csv\"\n",
        "    comp_df.to_csv(comp_path, index=False)\n",
        "    mlflow.log_artifact(comp_path)\n",
        "    print(\"\\nTabla comparativa:\\n\", comp_df)\n",
        "\n",
        "if __name__ == \"__main__\":\n",
        "    main()\n",
        "PY"
      ],
      "metadata": {
        "id": "qmHbMqcoGyap"
      },
      "execution_count": null,
      "outputs": []
    },
    {
      "cell_type": "code",
      "source": [
        "%%bash\n",
        "dvc stage add -n train \\\n",
        "  -p model.type,model.test_size,model.random_state,model.n_estimators,model.max_depth,model.n_jobs,model.class_weight,target,features \\\n",
        "  -d src/train.py -d data/processed/train.csv \\\n",
        "  -o models \\\n",
        "  python src/train.py"
      ],
      "metadata": {
        "colab": {
          "base_uri": "https://localhost:8080/"
        },
        "id": "AK7Cy4JsHur0",
        "outputId": "35868115-8637-42be-eef6-455fabeacb28"
      },
      "execution_count": null,
      "outputs": [
        {
          "output_type": "stream",
          "name": "stdout",
          "text": [
            "Added stage 'train' in 'dvc.yaml'\n",
            "\n",
            "To track the changes with git, run:\n",
            "\n",
            "\tgit add .gitignore dvc.yaml\n",
            "\n",
            "To enable auto staging, run:\n",
            "\n",
            "\tdvc config core.autostage true\n"
          ]
        }
      ]
    },
    {
      "cell_type": "code",
      "source": [
        "%%bash\n",
        "git add .gitignore dvc.yaml\n",
        "git commit -m \"chore: update .gitignore and add dvc.yaml\""
      ],
      "metadata": {
        "colab": {
          "base_uri": "https://localhost:8080/"
        },
        "id": "YeM1TCWTNcjS",
        "outputId": "d73b3a41-4164-410c-b408-d04ce5eb3b17"
      },
      "execution_count": null,
      "outputs": [
        {
          "output_type": "stream",
          "name": "stdout",
          "text": [
            "[master c946025] chore: update .gitignore and add dvc.yaml\n",
            " 2 files changed, 19 insertions(+)\n",
            " create mode 100644 dvc.yaml\n"
          ]
        }
      ]
    },
    {
      "cell_type": "code",
      "source": [
        "%%bash\n",
        "dvc repro"
      ],
      "metadata": {
        "colab": {
          "base_uri": "https://localhost:8080/"
        },
        "id": "UjEBqeY2NtIT",
        "outputId": "7f2b5b42-21ce-41ab-9032-6ed55e3808ef"
      },
      "execution_count": null,
      "outputs": [
        {
          "output_type": "stream",
          "name": "stdout",
          "text": [
            "Running stage 'train':\n",
            "> python src/train.py\n",
            "Run: 4a666f1ea9264e33a759f7b00bcd86bf | ACC=0.7833 F1=0.4935 ROC_AUC=0.8604 GMean=0.5936\n",
            "Generating lock file 'dvc.lock'\n",
            "Updating lock file 'dvc.lock'\n",
            "\n",
            "To track the changes with git, run:\n",
            "\n",
            "\tgit add dvc.lock\n",
            "\n",
            "To enable auto staging, run:\n",
            "\n",
            "\tdvc config core.autostage true\n",
            "Use `dvc push` to send your updates to remote storage.\n"
          ]
        },
        {
          "output_type": "stream",
          "name": "stderr",
          "text": [
            "2025/10/12 20:57:37 WARNING mlflow.utils.autologging_utils: MLflow sklearn autologging is known to be compatible with 0.24.1 <= scikit-learn <= 1.5.1, but the installed version is 1.5.2. If you encounter errors during autologging, try upgrading / downgrading scikit-learn to a compatible version, or try upgrading MLflow.\n"
          ]
        }
      ]
    },
    {
      "cell_type": "code",
      "source": [
        "%%bash\n",
        "dvc push"
      ],
      "metadata": {
        "colab": {
          "base_uri": "https://localhost:8080/"
        },
        "id": "J8f1_pK_NvuQ",
        "outputId": "f72fbf78-3184-41bd-9c10-e6cafa6983e3"
      },
      "execution_count": null,
      "outputs": [
        {
          "output_type": "stream",
          "name": "stdout",
          "text": [
            "Process is terminated.\n"
          ]
        }
      ]
    },
    {
      "cell_type": "code",
      "source": [
        "%%bash\n",
        "git add dvc.lock\n",
        "git commit -m \"add lockfile after first repro\""
      ],
      "metadata": {
        "colab": {
          "base_uri": "https://localhost:8080/"
        },
        "id": "Ba5LOEG-Nyeu",
        "outputId": "d44832e1-1ba2-4862-fee3-731c2329ca67"
      },
      "execution_count": null,
      "outputs": [
        {
          "output_type": "stream",
          "name": "stdout",
          "text": [
            "[master 4789dcc] add lockfile after first repro\n",
            " 1 file changed, 30 insertions(+)\n",
            " create mode 100644 dvc.lock\n"
          ]
        }
      ]
    },
    {
      "cell_type": "code",
      "source": [
        "!mlflow ui --backend-store-uri file:./mlruns --port 5001 --host 0.0.0.0 &"
      ],
      "metadata": {
        "colab": {
          "base_uri": "https://localhost:8080/"
        },
        "id": "4t5-LtNjOYWu",
        "outputId": "531039e4-71ba-45a3-8b8b-7d89a62f0a97"
      },
      "execution_count": null,
      "outputs": [
        {
          "output_type": "stream",
          "name": "stdout",
          "text": [
            "[2025-10-12 21:21:59 +0000] [23137] [INFO] Starting gunicorn 23.0.0\n",
            "[2025-10-12 21:21:59 +0000] [23137] [INFO] Listening at: http://0.0.0.0:5001 (23137)\n",
            "[2025-10-12 21:21:59 +0000] [23137] [INFO] Using worker: sync\n",
            "[2025-10-12 21:21:59 +0000] [23138] [INFO] Booting worker with pid: 23138\n",
            "[2025-10-12 21:21:59 +0000] [23143] [INFO] Booting worker with pid: 23143\n",
            "[2025-10-12 21:21:59 +0000] [23144] [INFO] Booting worker with pid: 23144\n",
            "[2025-10-12 21:22:00 +0000] [23145] [INFO] Booting worker with pid: 23145\n",
            "[2025-10-12 21:22:25 +0000] [23137] [INFO] Handling signal: int\n",
            "[2025-10-12 21:22:25 +0000] [23144] [INFO] Worker exiting (pid: 23144)\n",
            "[2025-10-12 21:22:25 +0000] [23138] [INFO] Worker exiting (pid: 23138)\n",
            "[2025-10-12 21:22:25 +0000] [23143] [INFO] Worker exiting (pid: 23143)\n",
            "[2025-10-12 21:22:25 +0000] [23145] [INFO] Worker exiting (pid: 23145)\n",
            "[2025-10-12 21:22:26 +0000] [23137] [INFO] Shutting down: Master\n"
          ]
        }
      ]
    },
    {
      "cell_type": "code",
      "source": [
        "import os\n",
        "from pyngrok import ngrok\n",
        "\n",
        "public_url = ngrok.connect(5001)\n",
        "print(\"🌐 Interfaz MLflow disponible en:\", public_url)"
      ],
      "metadata": {
        "colab": {
          "base_uri": "https://localhost:8080/"
        },
        "id": "ol92oDCNe3Th",
        "outputId": "0f42e80a-1c00-4753-b855-5065d0f22c00"
      },
      "execution_count": null,
      "outputs": [
        {
          "output_type": "stream",
          "name": "stdout",
          "text": [
            "🌐 Interfaz MLflow disponible en: NgrokTunnel: \"https://rudaceous-zahra-unfeasted.ngrok-free.dev\" -> \"http://localhost:5001\"\n"
          ]
        }
      ]
    },
    {
      "cell_type": "code",
      "source": [
        "%%bash\n",
        "python src/train.py"
      ],
      "metadata": {
        "colab": {
          "base_uri": "https://localhost:8080/"
        },
        "id": "THMym9S5k0rv",
        "outputId": "eb7f7936-2dd1-477e-f7b5-ac0def958585"
      },
      "execution_count": null,
      "outputs": [
        {
          "output_type": "stream",
          "name": "stdout",
          "text": [
            "\n",
            "Tabla comparativa:\n",
            "                Modelo   ROC_AUC    PR_AUC        F1 Ganador\n",
            "0  LogisticRegression  0.883265  0.761576  0.814321       🏆\n",
            "1        RandomForest  0.860389  0.685082  0.757730        \n"
          ]
        }
      ]
    },
    {
      "cell_type": "code",
      "source": [
        "%%bash\n",
        "git log --oneline --graph --decorate --all"
      ],
      "metadata": {
        "colab": {
          "base_uri": "https://localhost:8080/"
        },
        "id": "Lfz0PTQeq6U7",
        "outputId": "1038cbc2-1da7-41d0-9dd7-78a61ad9dc71"
      },
      "execution_count": null,
      "outputs": [
        {
          "output_type": "stream",
          "name": "stdout",
          "text": [
            "* b9c90f5 (HEAD -> main) push desde Colab (master)\n",
            "* f73b62d chore: ignore gsheet/mlruns/artifacts; commit code & pipeline\n",
            "* 4789dcc add lockfile after first repro\n",
            "* c946025 chore: update .gitignore and add dvc.yaml\n",
            "* 00fc25e ignore models dir\n",
            "* f1f66c5 add initial data and preprocessing pipeline\n",
            "* 73237f0 add initial data and preprocessing pipeline\n",
            "* 9279950 add initial data and preprocessing pipeline\n",
            "* e93e8f0 add initial data and preprocessing pipeline\n",
            "* 792506c add dvc remote gdrive\n",
            "* 5b59028 init repo + dvc\n"
          ]
        }
      ]
    },
    {
      "cell_type": "markdown",
      "source": [],
      "metadata": {
        "id": "rxKU5pzktA8T"
      }
    },
    {
      "cell_type": "code",
      "source": [
        "%%bash\n",
        "cd /content/drive/MyDrive/OperacionesML/Fase1\n",
        "git remote set-url origin https://github.com/ManuelAmbrizTec/riesgo_crediticio_equipo14.git\n",
        "git remote -v"
      ],
      "metadata": {
        "colab": {
          "base_uri": "https://localhost:8080/"
        },
        "id": "EPeCMvsGv9Uw",
        "outputId": "b2861a03-d540-4513-d7a3-a5b0402a2ff3"
      },
      "execution_count": null,
      "outputs": [
        {
          "output_type": "stream",
          "name": "stdout",
          "text": [
            "origin\thttps://github.com/ManuelAmbrizTec/riesgo_crediticio_equipo14.git (fetch)\n",
            "origin\thttps://github.com/ManuelAmbrizTec/riesgo_crediticio_equipo14.git (push)\n"
          ]
        }
      ]
    },
    {
      "cell_type": "code",
      "source": [
        "!git branch -M main\n",
        "!git push -u origin main"
      ],
      "metadata": {
        "id": "gjQTVEOJFftY"
      },
      "execution_count": null,
      "outputs": []
    }
  ]
}